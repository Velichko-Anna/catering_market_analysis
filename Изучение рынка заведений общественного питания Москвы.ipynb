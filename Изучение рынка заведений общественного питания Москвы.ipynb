{
 "cells": [
  {
   "cell_type": "markdown",
   "id": "ba86b5e5-f923-46ce-82d4-aba063d51b15",
   "metadata": {},
   "source": [
    "# Изучение рынка заведений общественного питания Москвы"
   ]
  },
  {
   "cell_type": "markdown",
   "id": "bb016dd1-2a42-41b8-b039-69b5996fbfeb",
   "metadata": {},
   "source": [
    "## Цель и задачи  \n",
    "\n",
    "**Цель:** Провести исследовательский анализ данных рынка заведений общественного питания Москвы.\n",
    "\n",
    "**Задачи:**\n",
    "1. Загрузить данные и познакомиться с их содержимым.\n",
    "2. Провести предобработку данных.\n",
    "3. Провести исследовательский анализ данных:\n",
    "    - изучить данные более детально;\n",
    "    - изучить взаимосвязь данных в столбце `Сhurn` с другими данными.\n",
    "4. Сформулировать выводы по проведённому анализу.\n",
    "\n",
    "___\n",
    "\n",
    "\n",
    "## Данные\n",
    "\n",
    "Для анализа поступили данные с заведениями общественного питания Москвы, составленный на основе данных сервисов N Карты и N Бизнес на лето 2022 года. Данные состоят из двух датасетов:\n",
    "\n",
    "- `/datasets/rest_info.csv` — информация о заведениях общественного питания;\n",
    "- `/datasets/rest_price.csv` — информация о среднем чеке в заведении.\n",
    "\n",
    "### Описание датасета `rest_info`\n",
    "\n",
    "- `name` — название заведения;\n",
    "- `address` — адрес заведения;\n",
    "- `district` — административный район, в котором находится заведение, например Центральный административный округ;\n",
    "- `category` — категория заведения, например «кафе», «пиццерия» или «кофейня»;\n",
    "- `hours` — информация о днях и часах работы;\n",
    "- `rating` — рейтинг заведения по оценкам пользователей в Яндекс Картах (высшая оценка — 5.0);\n",
    "- `chain` — число, выраженное 0 или 1, которое показывает, является ли заведение сетевым (для маленьких сетей могут встречаться ошибки):\n",
    "    - 0 — заведение не является сетевым;\n",
    "    - 1 — заведение является сетевым.\n",
    "- `seats` — количество посадочных мест.\n",
    "\n",
    "### Описание датасета `rest_price`\n",
    "\n",
    "- `price` — категория цен в заведении, например «средние», «ниже среднего», «выше среднего» и так далее;\n",
    "- `avg_bill` — строка, которая хранит среднюю стоимость заказа в виде диапазона, например: \n",
    "    -  «Средний счёт: 1000–1500 ₽»;\n",
    "    -  «Цена чашки капучино: 130–220 ₽»;\n",
    "    -  «Цена бокала пива: 400–600 ₽».\n",
    "    -  и так далее;\n",
    "- `middle_avg_bill` — число с оценкой среднего чека, которое указано только для значений из столбца avg_bill, начинающихся с подстроки «Средний счёт»: \n",
    "    -  Если в строке указан ценовой диапазон из двух значений, в столбец войдёт медиана этих двух значений.\n",
    "    -  Если в строке указано одно число — цена без диапазона, то в столбец войдёт это число.\n",
    "    -  Если значения нет или оно не начинается с подстроки «Средний счёт», то в столбец ничего не войдёт.\n",
    "- `middle_coffee_cup` — число с оценкой одной чашки капучино, которое указано только для значений из столбца avg_bill, начинающихся с подстроки «Цена одной чашки капучино»: \n",
    "    -  Если в строке указан ценовой диапазон из двух значений, в столбец войдёт медиана этих двух значений.\n",
    "    -  Если в строке указано одно число — цена без диапазона, то в столбец войдёт это число.\n",
    "    -  Если значения нет или оно не начинается с подстроки «Цена одной чашки капучино», то в столбец ничего не войдёт..\n",
    "\n",
    "\n",
    "## Структура проекта\n",
    "\n",
    "1. Загрузка данных и знакомство с ними.\n",
    "2. Предобработка данных.\n",
    "3. Исследовательский анализ данных.\n",
    "4. Итоговые выводы.\n",
    "___"
   ]
  },
  {
   "cell_type": "markdown",
   "id": "8bc1c1aa-a08d-42be-acff-20184a2f1365",
   "metadata": {},
   "source": [
    "## 1. Загрузка данных и знакомство с ними\n",
    "\n",
    "Начнём с загрузки библиотек и датасетов `rest_info` и `rest_price`. Будем использовать pandas и библиотеки визуализации данных matplotlib и seaborn, а также phik для построения матрицы корреляции. Данные датасетов сохраним в двух переменных: `info_df` и `price_df`."
   ]
  },
  {
   "cell_type": "code",
   "execution_count": 2,
   "id": "ef19c20f-7df4-484b-8e9a-3f58d9d3ddf3",
   "metadata": {},
   "outputs": [],
   "source": [
    "# Импортируем библиотеки\n",
    "import pandas as pd\n",
    "import numpy as np\n",
    "\n",
    "# Загружаем библиотеки для визуализации данных\n",
    "import matplotlib.pyplot as plt\n",
    "import seaborn as sns\n",
    "\n",
    "# Загружаем библиотеку для расчёта коэффициента корреляции phi_k\n",
    "from phik import phik_matrix"
   ]
  },
  {
   "cell_type": "code",
   "execution_count": null,
   "id": "3b966eaf-e200-46ca-88e7-627f1d3c193b",
   "metadata": {},
   "outputs": [],
   "source": [
    "# Выгружаем данные в переменные info_df и price_df\n",
    "info_df = pd.read_csv('path/datasets/rest_info.csv')\n",
    "price_df = pd.read_csv('path/datasets/rest_price.csv')"
   ]
  },
  {
   "cell_type": "markdown",
   "id": "be9280a4-88f1-41dd-b836-c88c91749151",
   "metadata": {},
   "source": [
    "Познакомимся с данными датасета `rest_info.csv` — выведем информацию о датафрейме методом `info()`"
   ]
  },
  {
   "cell_type": "code",
   "execution_count": 5,
   "id": "e980c8f7-d100-46c9-bc3d-68dd5ce89519",
   "metadata": {},
   "outputs": [
    {
     "name": "stdout",
     "output_type": "stream",
     "text": [
      "<class 'pandas.core.frame.DataFrame'>\n",
      "RangeIndex: 8406 entries, 0 to 8405\n",
      "Data columns (total 9 columns):\n",
      " #   Column    Non-Null Count  Dtype  \n",
      "---  ------    --------------  -----  \n",
      " 0   id        8406 non-null   object \n",
      " 1   name      8406 non-null   object \n",
      " 2   category  8406 non-null   object \n",
      " 3   address   8406 non-null   object \n",
      " 4   district  8406 non-null   object \n",
      " 5   hours     7870 non-null   object \n",
      " 6   rating    8406 non-null   float64\n",
      " 7   chain     8406 non-null   int64  \n",
      " 8   seats     4795 non-null   float64\n",
      "dtypes: float64(2), int64(1), object(6)\n",
      "memory usage: 591.2+ KB\n"
     ]
    }
   ],
   "source": [
    "# Выводим информацию о датафрейме\n",
    "info_df.info()"
   ]
  },
  {
   "cell_type": "markdown",
   "id": "ca5d5174-99bd-4e86-9375-230118131583",
   "metadata": {},
   "source": [
    "Датасет `rest_info.csv` содержит 9 столбцов и 8 406 строк, в которых представлена информация о заведениях.\n",
    "\n",
    "После первичного анализа данных можно сделать следующие выводы:\n",
    "- Названия столбцов названы в едином стиле.\n",
    "- Столбцы `id`, `name`, `category`, `address`, `district`, `hours` содержат строковые данные, поэтому тип `object` отлично подходит.\n",
    "- Столбцу `rating` тоже соответствует тип данных `float64`, столбец `chain` содержит информацию в формате нуля и единицы, тип `int64` можно использовать, но также можно было бы привести столбец к булевому типу. Столбец `seats` можно привести к целочисленному типу данных, так как он содержит информацию о кол-ве посадочных мест.\n",
    "- Пропуски содержатся в столбцах `hours` и `seats`. Однако следует проверить и другие столбцы: в них могут встречаться значения-индикаторы, которые будут говорить об отсутствии данных.\n",
    "- Судя по первому знакомству с данными, значения в столбцах соответствуют своему описанию.\n",
    "\n",
    "Теперь познакомимся с данными датасета `rest_price.csv`."
   ]
  },
  {
   "cell_type": "code",
   "execution_count": 7,
   "id": "efa916eb-e829-48e5-a7aa-bcf8c2f1546c",
   "metadata": {},
   "outputs": [
    {
     "name": "stdout",
     "output_type": "stream",
     "text": [
      "<class 'pandas.core.frame.DataFrame'>\n",
      "RangeIndex: 4058 entries, 0 to 4057\n",
      "Data columns (total 5 columns):\n",
      " #   Column             Non-Null Count  Dtype  \n",
      "---  ------             --------------  -----  \n",
      " 0   id                 4058 non-null   object \n",
      " 1   price              3315 non-null   object \n",
      " 2   avg_bill           3816 non-null   object \n",
      " 3   middle_avg_bill    3149 non-null   float64\n",
      " 4   middle_coffee_cup  535 non-null    float64\n",
      "dtypes: float64(2), object(3)\n",
      "memory usage: 158.6+ KB\n"
     ]
    }
   ],
   "source": [
    "# Выводим информацию о датафрейме\n",
    "price_df.info()"
   ]
  },
  {
   "cell_type": "markdown",
   "id": "3683b1d7-53ec-4040-a6b9-374974dd4f32",
   "metadata": {},
   "source": [
    "Датасет `rest_price.csv` содержит 4 столбца и 4 058 строк, в которых представлена информация о стоимости в заведениях. По аналогии с предыдущим датасетом можно отметить, что:\n",
    "- Названия столбцов приведены к единому стилю.\n",
    "- Типы данных соответствуют содержимому.\n",
    "- Пропуски присутствуют в каждом столбце, при этом пропуски для столбцов `middle_avg_bill` и `middle_coffee_cup` по условию - это нормальное явление, так как в них содержатся условные данные, которые зависят от значений в другом столбце. \n",
    "- Значения в столбцах соответствуют описанию.\n",
    "\n",
    "Первичное знакомство показывает, что данные хорошего качества — в них практически нет пропущенных значений, а сами данные соответствуют описанию и выглядят корректными. Настало время следующего этапа — предобработки данных.\n",
    "\n",
    "___"
   ]
  },
  {
   "cell_type": "markdown",
   "id": "b331fb6d-b5a5-44e5-a41f-f3b7e2c09fd2",
   "metadata": {},
   "source": [
    "### Подготовка единого датафрейма\n",
    "\n",
    "Объединим данные двух датасетов в один, с которым и продолжим работу."
   ]
  },
  {
   "cell_type": "code",
   "execution_count": 8,
   "id": "32e325d9-bc75-4bc5-be11-94c67c995ed4",
   "metadata": {},
   "outputs": [
    {
     "name": "stdout",
     "output_type": "stream",
     "text": [
      "<class 'pandas.core.frame.DataFrame'>\n",
      "Int64Index: 8406 entries, 0 to 8405\n",
      "Data columns (total 13 columns):\n",
      " #   Column             Non-Null Count  Dtype  \n",
      "---  ------             --------------  -----  \n",
      " 0   id                 8406 non-null   object \n",
      " 1   price              3315 non-null   object \n",
      " 2   avg_bill           3816 non-null   object \n",
      " 3   middle_avg_bill    3149 non-null   float64\n",
      " 4   middle_coffee_cup  535 non-null    float64\n",
      " 5   name               8406 non-null   object \n",
      " 6   category           8406 non-null   object \n",
      " 7   address            8406 non-null   object \n",
      " 8   district           8406 non-null   object \n",
      " 9   hours              7870 non-null   object \n",
      " 10  rating             8406 non-null   float64\n",
      " 11  chain              8406 non-null   int64  \n",
      " 12  seats              4795 non-null   float64\n",
      "dtypes: float64(4), int64(1), object(8)\n",
      "memory usage: 919.4+ KB\n"
     ]
    }
   ],
   "source": [
    "# соединим данные в единый датафрейм df\n",
    "df = price_df.merge(info_df, on='id', how='outer')\n",
    "\n",
    "# выведем информацию о датафрейме\n",
    "df.info()"
   ]
  },
  {
   "cell_type": "markdown",
   "id": "bc66d26a-036c-46dd-b2fa-980162af3d17",
   "metadata": {},
   "source": [
    "___"
   ]
  },
  {
   "cell_type": "code",
   "execution_count": 10,
   "id": "3c678b86-71af-4eaa-9ca0-c4b2d25bf3a5",
   "metadata": {},
   "outputs": [
    {
     "data": {
      "text/plain": [
       "8406"
      ]
     },
     "execution_count": 10,
     "metadata": {},
     "output_type": "execute_result"
    }
   ],
   "source": [
    "# создаем копию датасета до преобразования для возможности проверить сделанные изменения после предобработки\n",
    "copy_df = df.copy() \n",
    "len(copy_df)"
   ]
  },
  {
   "cell_type": "markdown",
   "id": "f8c26ef6-17ad-48da-bd8b-27a4f3382e70",
   "metadata": {},
   "source": [
    "## 2. Предобработка данных\n",
    "\n",
    "### 2.1. Оптимизируем типы данных\n",
    "\n",
    "С данными банка здесь работы не так много — понадобится только провести оптимизацию целочисленных данных. В целом этот шаг можно было бы пропустить, особенно если данных немного — такое несоответствие не будет ошибкой при обработке данных. Однако оставим этот шаг и проведём оптимизацию целочисленных типов данных.\n",
    "\n",
    "Для оптимизации будем использовать метод `pd.to_numeric` с аргументом `downcast='integer'`:"
   ]
  },
  {
   "cell_type": "code",
   "execution_count": 11,
   "id": "bf3a7798-2f3d-422c-9f71-6d8f24b0442a",
   "metadata": {},
   "outputs": [],
   "source": [
    "df['chain'] = pd.to_numeric(df['chain'], downcast='integer')"
   ]
  },
  {
   "cell_type": "code",
   "execution_count": 12,
   "id": "0e4daf7e-e8dd-491c-b366-552ad365c3eb",
   "metadata": {},
   "outputs": [],
   "source": [
    "# приведем столбец seats также к целочисленному типу, заменив пропуски на индикатор -1, и понизим разрядность\n",
    "df['seats'] = df['seats'].fillna(-1).round().astype(int)\n",
    "df['seats'] = pd.to_numeric(df['seats'], downcast='integer')"
   ]
  },
  {
   "cell_type": "markdown",
   "id": "88518637-c6e5-4157-8eb3-361cd5465d35",
   "metadata": {},
   "source": [
    "Типы данных были успешно оптимизированы с понижением размерности целочисленных данных.\n",
    "___"
   ]
  },
  {
   "cell_type": "code",
   "execution_count": 13,
   "id": "b4ad22d6-d2d3-44a2-b86b-29e249ce0f4c",
   "metadata": {},
   "outputs": [
    {
     "name": "stdout",
     "output_type": "stream",
     "text": [
      "<class 'pandas.core.frame.DataFrame'>\n",
      "Int64Index: 8406 entries, 0 to 8405\n",
      "Data columns (total 13 columns):\n",
      " #   Column             Non-Null Count  Dtype  \n",
      "---  ------             --------------  -----  \n",
      " 0   id                 8406 non-null   object \n",
      " 1   price              3315 non-null   object \n",
      " 2   avg_bill           3816 non-null   object \n",
      " 3   middle_avg_bill    3149 non-null   float32\n",
      " 4   middle_coffee_cup  535 non-null    float32\n",
      " 5   name               8406 non-null   object \n",
      " 6   category           8406 non-null   object \n",
      " 7   address            8406 non-null   object \n",
      " 8   district           8406 non-null   object \n",
      " 9   hours              7870 non-null   object \n",
      " 10  rating             8406 non-null   float32\n",
      " 11  chain              8406 non-null   int8   \n",
      " 12  seats              8406 non-null   int16  \n",
      "dtypes: float32(3), int16(1), int8(1), object(8)\n",
      "memory usage: 714.2+ KB\n"
     ]
    }
   ],
   "source": [
    "# понизим разрядность числовых данных с 64 до 32\n",
    "for column in ['rating', 'middle_avg_bill', 'middle_coffee_cup']:\n",
    "    df[column] = pd.to_numeric(df[column], downcast='float')\n",
    "df.info()"
   ]
  },
  {
   "cell_type": "markdown",
   "id": "717d9105-1de5-4abf-a776-d085923d994c",
   "metadata": {},
   "source": [
    "### 2.2. Проверяем наличие пропусков в данных\n",
    "\n",
    "При первичном анализе мы обнаружили пропуски в столбце `price`, `avg_bill`, `hours`. Узнаем абсолютное и относительное количество пропусков в этом столбце."
   ]
  },
  {
   "cell_type": "code",
   "execution_count": 14,
   "id": "724fee85-7c3d-44ac-a70a-686160ee3b15",
   "metadata": {},
   "outputs": [
    {
     "data": {
      "text/plain": [
       "id                      0\n",
       "price                5091\n",
       "avg_bill             4590\n",
       "middle_avg_bill      5257\n",
       "middle_coffee_cup    7871\n",
       "name                    0\n",
       "category                0\n",
       "address                 0\n",
       "district                0\n",
       "hours                 536\n",
       "rating                  0\n",
       "chain                   0\n",
       "seats                   0\n",
       "dtype: int64"
      ]
     },
     "execution_count": 14,
     "metadata": {},
     "output_type": "execute_result"
    }
   ],
   "source": [
    "# Применяем метод isna() к датафрейму\n",
    "df.isna().sum()"
   ]
  },
  {
   "cell_type": "code",
   "execution_count": 15,
   "id": "24c45ac1-ad8d-446c-a8b8-5a40b4760c25",
   "metadata": {},
   "outputs": [
    {
     "data": {
      "text/plain": [
       "id                    0.00\n",
       "price                60.56\n",
       "avg_bill             54.60\n",
       "middle_avg_bill      62.54\n",
       "middle_coffee_cup    93.64\n",
       "name                  0.00\n",
       "category              0.00\n",
       "address               0.00\n",
       "district              0.00\n",
       "hours                 6.38\n",
       "rating                0.00\n",
       "chain                 0.00\n",
       "seats                 0.00\n",
       "dtype: float64"
      ]
     },
     "execution_count": 15,
     "metadata": {},
     "output_type": "execute_result"
    }
   ],
   "source": [
    "# Подсчитываем процент строк с пропусками\n",
    "round(df.isna().sum() / df.shape[0] * 100, 2)"
   ]
  },
  {
   "cell_type": "markdown",
   "id": "f4eb9dbb-7ef6-4479-af77-b37d150535e3",
   "metadata": {},
   "source": [
    "60.5% пропущенных значений в столбце `price`, что достаточно много, просто удалить их мы не можем. Заменим пропущенные значения на категориальный индикатор, чтобы учитывать заведения без категории стоимости в дальнейщем анализе. Аналогично заменим пропуски в столбце `hours`, которые связаны с отсутствием информации о часах работы заведения."
   ]
  },
  {
   "cell_type": "code",
   "execution_count": 17,
   "id": "585c05a0-3c50-4cfc-8378-733112a61a4f",
   "metadata": {},
   "outputs": [],
   "source": [
    "# заменяем пропущенные значения\n",
    "df['price'] = df['price'].fillna('не указано')\n",
    "df['hours'] = df['hours'].fillna('не указано')"
   ]
  },
  {
   "cell_type": "markdown",
   "id": "c7864d5a-1158-4121-ac1a-68c65ac62454",
   "metadata": {},
   "source": [
    "Пропущенные значения в столбце `avg_bill` можно заменить на индикатор 0, так как данные в столбце содержатся в виде строки с информацией о диапазоне. Значение `0` будет выбиваться из общего вида, что подойдет для индикатора."
   ]
  },
  {
   "cell_type": "code",
   "execution_count": 18,
   "id": "cb57a8f8-6b64-420b-b1f4-3fd94da38674",
   "metadata": {},
   "outputs": [],
   "source": [
    "# заменяем пропущенные значения\n",
    "df['avg_bill'] = df['avg_bill'].fillna('0')"
   ]
  },
  {
   "cell_type": "markdown",
   "id": "493b3a53-3270-488b-9c54-9e842e7a2894",
   "metadata": {},
   "source": [
    "Пропущенные значения в столбцах `middle_avg_bill` и `middle_coffee_cup` заменим на индикатор -1. Пропуски связаны с тем, что данные в этих столбцах зависят от значений в столбце `avg_bill`, поэтому это не является ошибкой. Но чтобы не ошибиться, поставим отрицательное значение индикатору, чтобы не перепутать со стоимостью."
   ]
  },
  {
   "cell_type": "code",
   "execution_count": 19,
   "id": "b82440dd-f0a1-419e-8026-f24ce54d5862",
   "metadata": {},
   "outputs": [],
   "source": [
    "# заменяем пропущенные значения\n",
    "df['middle_avg_bill'] = df['middle_avg_bill'].fillna(-1)\n",
    "df['middle_coffee_cup'] = df['middle_coffee_cup'].fillna(-1)"
   ]
  },
  {
   "cell_type": "markdown",
   "id": "014a37b3-a75c-4681-88f3-adbfc5e5e5c8",
   "metadata": {},
   "source": [
    "### 2.3. Явные и неявные дубликаты в данных:"
   ]
  },
  {
   "cell_type": "code",
   "execution_count": 20,
   "id": "b569b8d6-a9ee-4635-8688-35bcc6f4050e",
   "metadata": {},
   "outputs": [
    {
     "name": "stdout",
     "output_type": "stream",
     "text": [
      "Уникальные значения в столбце name:\n",
      "['#КешбэкКафе' '+39 Pizzeria Mozzarella bar' '1 Этаж' ... 'Ясно' 'Яуза'\n",
      " 'ночной Баку']\n",
      "\n",
      "Уникальные значения в столбце category:\n",
      "['бар,паб' 'булочная' 'быстрое питание' 'кафе' 'кофейня' 'пиццерия'\n",
      " 'ресторан' 'столовая']\n",
      "\n",
      "Уникальные значения в столбце district:\n",
      "['Восточный административный округ' 'Западный административный округ'\n",
      " 'Северный административный округ'\n",
      " 'Северо-Восточный административный округ'\n",
      " 'Северо-Западный административный округ'\n",
      " 'Центральный административный округ'\n",
      " 'Юго-Восточный административный округ'\n",
      " 'Юго-Западный административный округ' 'Южный административный округ']\n",
      "\n",
      "Уникальные значения в столбце hours:\n",
      "['Нет информации'\n",
      " 'вт 08:30–17:00; ср,чт 12:00–20:30; пт 08:30–17:00; сб 09:00–16:30'\n",
      " 'вт 13:00–21:00; ср 11:00–20:00; чт 13:00–21:00; пт-вс 11:00–20:00' ...\n",
      " 'чт 20:00–02:00; пт,сб 20:00–06:00'\n",
      " 'чт круглосуточно, перерыв 10:00–20:00; сб круглосуточно'\n",
      " 'чт-вс 20:00–06:00']\n",
      "\n"
     ]
    }
   ],
   "source": [
    "# Проверяем уникальные значения в столбцах\n",
    "for column in ['name', 'category', 'district', 'hours']:\n",
    "    print(f'Уникальные значения в столбце {column}:')\n",
    "    print(df[column].sort_values().unique())\n",
    "    print()"
   ]
  },
  {
   "cell_type": "markdown",
   "id": "9306fb98-452f-47d9-bc42-4092fadf02fb",
   "metadata": {},
   "source": [
    "Проверим по кол-ву уникальных значений в столбце `name`, что в данных действительно нет дубликатов, приведя к единому регистру. Если мы получим разные значения, то унифицируем данные этого столбца, в противном случае можно будет оставить все, как есть."
   ]
  },
  {
   "cell_type": "code",
   "execution_count": 21,
   "id": "e7b64509-8e91-486e-8c04-7a9a9bcef2fa",
   "metadata": {},
   "outputs": [
    {
     "name": "stdout",
     "output_type": "stream",
     "text": [
      "Кол-во уникальных значений: 5614, в едином регистре: 5512\n"
     ]
    }
   ],
   "source": [
    "print(f'Кол-во уникальных значений: {df[\"name\"].nunique()}, в едином регистре: {df[\"name\"].str.lower().nunique()}')"
   ]
  },
  {
   "cell_type": "markdown",
   "id": "df4f8c41-3cff-4127-82ac-4b5053933d77",
   "metadata": {},
   "source": [
    "Делаем вывод, что все же присутствуют неявные дубликаты среди названий, приведем все значения к lower-формату."
   ]
  },
  {
   "cell_type": "code",
   "execution_count": 22,
   "id": "723a7697-7bca-409c-8ad0-23a46679739f",
   "metadata": {},
   "outputs": [],
   "source": [
    "df['name'] = df['name'].str.lower()"
   ]
  },
  {
   "cell_type": "code",
   "execution_count": 23,
   "id": "4466726e-9e8e-4803-b00b-253af4a345dd",
   "metadata": {},
   "outputs": [],
   "source": [
    "# удалим конечные пробелы\n",
    "df['name'] = df['name'].str.strip()"
   ]
  },
  {
   "cell_type": "code",
   "execution_count": 24,
   "id": "8b295a55-fc05-4ff3-9107-149f0d670851",
   "metadata": {},
   "outputs": [
    {
     "data": {
      "text/plain": [
       "0"
      ]
     },
     "execution_count": 24,
     "metadata": {},
     "output_type": "execute_result"
    }
   ],
   "source": [
    "# выведем информацию по явным дубликатам\n",
    "df.duplicated().sum()"
   ]
  },
  {
   "cell_type": "markdown",
   "id": "27aacf70-a302-4659-bd1b-be02462944cb",
   "metadata": {},
   "source": [
    "Полных дубликатов нет, выведем кол-во дубликатов в столбце `name`"
   ]
  },
  {
   "cell_type": "code",
   "execution_count": 25,
   "id": "df36bc18-7371-4768-8882-c1187f4e6dbb",
   "metadata": {},
   "outputs": [
    {
     "data": {
      "text/plain": [
       "2894"
      ]
     },
     "execution_count": 25,
     "metadata": {},
     "output_type": "execute_result"
    }
   ],
   "source": [
    "df['name'].duplicated().sum()"
   ]
  },
  {
   "cell_type": "markdown",
   "id": "68efa42d-4c1a-42b2-ae3f-c1b31962e8e8",
   "metadata": {},
   "source": [
    "Всего 2 894 полных дубликатов в названиях заведений, но это может быть просто повторяющееся наименование заведения (например, сетевые заведения), чтобы убедиться, что ошибок нет и мы не удалим лишнего, выведем кол-во уникальных значений тройки: название, адрес, округ."
   ]
  },
  {
   "cell_type": "code",
   "execution_count": 26,
   "id": "14aba016-5a70-4f2b-b0ee-807288ac4f34",
   "metadata": {},
   "outputs": [
    {
     "data": {
      "text/plain": [
       "3"
      ]
     },
     "execution_count": 26,
     "metadata": {},
     "output_type": "execute_result"
    }
   ],
   "source": [
    "# кол-во дубликатов тройки\n",
    "df[['name', 'address', 'district']].duplicated().sum()"
   ]
  },
  {
   "cell_type": "markdown",
   "id": "41af36c2-ae65-49a6-ac32-836f0c7fc390",
   "metadata": {},
   "source": [
    "Всего полных повторений три штуки, удалить их не страшно, сделаем это:"
   ]
  },
  {
   "cell_type": "code",
   "execution_count": 27,
   "id": "d5dfacbd-efcf-4f9d-99af-bd2dcf1982b9",
   "metadata": {},
   "outputs": [],
   "source": [
    "# удалим строки с дубликатами\n",
    "df = df.drop_duplicates(subset=['name', 'address', 'district'])"
   ]
  },
  {
   "cell_type": "markdown",
   "id": "34a8931a-542a-4855-8359-72770a079794",
   "metadata": {},
   "source": [
    "Дубликаты удалены!"
   ]
  },
  {
   "cell_type": "markdown",
   "id": "255b810a-daad-4cdc-b03e-9251fd17d35e",
   "metadata": {},
   "source": [
    "### 2.4. Добавление столбца-метки о круглосуточной работе заведения"
   ]
  },
  {
   "cell_type": "code",
   "execution_count": null,
   "id": "db46d84a",
   "metadata": {},
   "outputs": [
    {
     "data": {
      "text/plain": [
       "False    7673\n",
       "True      730\n",
       "Name: is_24_7, dtype: int64"
      ]
     },
     "execution_count": 31,
     "metadata": {},
     "output_type": "execute_result"
    }
   ],
   "source": [
    "# создадим функцию для проверки\n",
    "def check_24_7(hours):\n",
    "    return hours == 'ежедневно, круглосуточно'\n",
    "\n",
    "# Применение функции через .apply()\n",
    "df['is_24_7'] = df['hours'].apply(check_24_7)\n",
    "\n",
    "df['is_24_7'].value_counts()"
   ]
  },
  {
   "cell_type": "code",
   "execution_count": null,
   "id": "5f3826f0",
   "metadata": {},
   "outputs": [
    {
     "name": "stdout",
     "output_type": "stream",
     "text": [
      " Было строк в исходном датасете 8406 \n",
      " Осталось строк в датасете после обработки 8403 \n",
      " Удалено строк в датасете после обработки 3 \n",
      " Процент потерь 0.04\n"
     ]
    }
   ],
   "source": [
    "# Проверим сколько удалено строк датасета\n",
    "a, b = len(temp), len(df)\n",
    "print(\" Было строк в исходном датасете\", a,\n",
    "      '\\n', \"Осталось строк в датасете после обработки\", b,\n",
    "      '\\n', \"Удалено строк в датасете после обработки\", a-b,\n",
    "      '\\n', \"Процент потерь\", round((a-b)/a*100, 2))"
   ]
  },
  {
   "cell_type": "markdown",
   "id": "e2ef61fe-9cf5-4d31-9f45-0c79f403f25a",
   "metadata": {},
   "source": [
    "### 2.5. Промежуточные выводы после предобработки\n",
    "\n",
    "На этом предобработка завершена. Предоставленные данные хорошего качества и требуют не так много действий по предобработке. \n",
    "\n",
    "В результате предобработки данных были выполнены следующие действия:\n",
    "\n",
    "- Изучены пропуски в данных, все пропуски были заменены на индикаторы. \n",
    "- Данные проверили на явные и неявные дубликаты — удалены 3 строки с повторяющимся названием, адресом и округом.\n",
    "- Были объедены датафреймы `info_df` и `price_df` в единый датафрейм `df`\n",
    "- Понизили разрядность числовых данных с 64 до 32 у столбцов `rating`, `middle_avg_bill` и `middle_coffee_cup`\n",
    "- Столбцы `seats` и `chain` также были приведены к целочисленному типу\n"
   ]
  },
  {
   "cell_type": "markdown",
   "id": "cf5a32c6-c01a-49ab-8dc1-9f8fb0e28943",
   "metadata": {},
   "source": [
    "## 3. Исследовательский анализ данных"
   ]
  },
  {
   "cell_type": "markdown",
   "id": "1a9a09eb-c3e8-4aca-af71-cfc53f5b19c6",
   "metadata": {},
   "source": [
    "Рассмотрим, какие категории заведений представлены в данных? Исследуем количество объектов общественного питания по каждой категории. Результат сопроводим подходящей визуализацией."
   ]
  },
  {
   "cell_type": "code",
   "execution_count": 33,
   "id": "bd6d625f-81d7-44b8-b093-ee0595b13b85",
   "metadata": {},
   "outputs": [
    {
     "name": "stdout",
     "output_type": "stream",
     "text": [
      "Распределение заведений в зависимости от категории:\n"
     ]
    },
    {
     "data": {
      "text/plain": [
       "category\n",
       "бар,паб             764\n",
       "булочная            256\n",
       "быстрое питание     603\n",
       "кафе               2377\n",
       "кофейня            1413\n",
       "пиццерия            633\n",
       "ресторан           2042\n",
       "столовая            315\n",
       "Name: id, dtype: int64"
      ]
     },
     "execution_count": 33,
     "metadata": {},
     "output_type": "execute_result"
    }
   ],
   "source": [
    "# Посчитаем количество заведений по категориям\n",
    "print('Распределение заведений в зависимости от категории:')\n",
    "df.groupby('category')['id'].nunique()"
   ]
  },
  {
   "cell_type": "code",
   "execution_count": 34,
   "id": "bdf88782-0e44-43f5-a149-dfaba0c414ed",
   "metadata": {},
   "outputs": [
    {
     "name": "stdout",
     "output_type": "stream",
     "text": [
      "Распределение заведений в зависимости от категории в относительных значениях:\n"
     ]
    },
    {
     "data": {
      "text/plain": [
       "кафе               0.282875\n",
       "ресторан           0.243008\n",
       "кофейня            0.168154\n",
       "бар,паб            0.090920\n",
       "пиццерия           0.075330\n",
       "быстрое питание    0.071760\n",
       "столовая           0.037487\n",
       "булочная           0.030465\n",
       "Name: category, dtype: float64"
      ]
     },
     "execution_count": 34,
     "metadata": {},
     "output_type": "execute_result"
    }
   ],
   "source": [
    "# Посчитаем количество заведений по категориям\n",
    "print('Распределение заведений в зависимости от категории в относительных значениях:')\n",
    "df['category'].value_counts(normalize=True)"
   ]
  },
  {
   "cell_type": "markdown",
   "id": "0e857053-6acf-41c0-aa0e-f73a9874dee8",
   "metadata": {},
   "source": [
    "Больше всего заведений категории `кафе`, `ресторан` и `кофейня`: 2 377, 2 041 и 1 413 соответственно. \n",
    "\n",
    "Для визуального анализа такого распределения можно использовать столбчатые диаграммы. Визуализируем распределение в столбце category:"
   ]
  },
  {
   "cell_type": "code",
   "execution_count": 35,
   "id": "c7cfa43c-2a04-4c88-a1ae-de8e6277df3c",
   "metadata": {},
   "outputs": [
    {
     "data": {
      "image/png": "[encoded data removed]",
      "text/plain": [
       "<Figure size 864x432 with 1 Axes>"
      ]
     },
     "metadata": {
      "needs_background": "light"
     },
     "output_type": "display_data"
    }
   ],
   "source": [
    "# Создаём контейнер графика matplotlib и задаём его размер\n",
    "plt.figure(figsize=(12, 6))\n",
    "\n",
    "# Строим столбчатую диаграмму с помощью pandas через plot(kind='bar')\n",
    "df['category'].value_counts().plot(\n",
    "               kind='bar', # Тип графика - столбчатая диаграмма\n",
    "               rot=0, # Градус вращения подписи по оси Х\n",
    "               legend=False, # Выключаем легенду\n",
    "               title=f'Распределение заведений в зависимости от категории'\n",
    ")\n",
    "\n",
    "# Настраиваем оформление графика\n",
    "plt.xlabel('Категории')\n",
    "plt.ylabel('Количество заведений')\n",
    "# Добавляем сетку графика\n",
    "plt.grid()\n",
    "\n",
    "# Выводим график\n",
    "plt.show()"
   ]
  },
  {
   "cell_type": "markdown",
   "id": "a064bc11-c474-4ee1-acbc-f62cf264af18",
   "metadata": {},
   "source": [
    "Теперь отлично видно преобладающие по кол-ву заведений категории, отлично!"
   ]
  },
  {
   "cell_type": "markdown",
   "id": "6f8fa3d4-a76e-471c-8b71-1b729042fc07",
   "metadata": {},
   "source": [
    "___\n",
    "Рассмотрим, какие административные районы Москвы присутствуют в данных? Исследуем распределение количества заведений по административным районам Москвы, а также отдельно распределение заведений каждой категории в Центральном административном округе Москвы. Результат сопроводим подходящими визуализациями."
   ]
  },
  {
   "cell_type": "code",
   "execution_count": 36,
   "id": "378d83b3-a420-49a1-ac6e-3452b90b052a",
   "metadata": {},
   "outputs": [
    {
     "name": "stdout",
     "output_type": "stream",
     "text": [
      "Распределение заведений в зависимости от района:\n"
     ]
    },
    {
     "data": {
      "text/plain": [
       "district\n",
       "Восточный административный округ            798\n",
       "Западный административный округ             850\n",
       "Северный административный округ             899\n",
       "Северо-Восточный административный округ     890\n",
       "Северо-Западный административный округ      409\n",
       "Центральный административный округ         2242\n",
       "Юго-Восточный административный округ        714\n",
       "Юго-Западный административный округ         709\n",
       "Южный административный округ                892\n",
       "Name: id, dtype: int64"
      ]
     },
     "execution_count": 36,
     "metadata": {},
     "output_type": "execute_result"
    }
   ],
   "source": [
    "# Посчитаем количество заведений по районам\n",
    "print('Распределение заведений в зависимости от района:')\n",
    "df.groupby('district')['id'].nunique()"
   ]
  },
  {
   "cell_type": "code",
   "execution_count": 37,
   "id": "ae4fb6ae-9f07-4365-8a09-82caf70e25c1",
   "metadata": {},
   "outputs": [
    {
     "name": "stdout",
     "output_type": "stream",
     "text": [
      "Распределение заведений в зависимости от района в относительных значениях:\n"
     ]
    },
    {
     "data": {
      "text/plain": [
       "Центральный административный округ         0.266809\n",
       "Северный административный округ            0.106986\n",
       "Южный административный округ               0.106153\n",
       "Северо-Восточный административный округ    0.105915\n",
       "Западный административный округ            0.101154\n",
       "Восточный административный округ           0.094966\n",
       "Юго-Восточный административный округ       0.084970\n",
       "Юго-Западный административный округ        0.084375\n",
       "Северо-Западный административный округ     0.048673\n",
       "Name: district, dtype: float64"
      ]
     },
     "execution_count": 37,
     "metadata": {},
     "output_type": "execute_result"
    }
   ],
   "source": [
    "# Посчитаем количество заведений по районам\n",
    "print('Распределение заведений в зависимости от района в относительных значениях:')\n",
    "df['district'].value_counts(normalize=True)"
   ]
  },
  {
   "cell_type": "markdown",
   "id": "41ce5732-8fa2-4129-95d1-8f44bfcd2258",
   "metadata": {},
   "source": [
    "Мы видим, что в ЦАО количество заведений преобладает, сопроводим информацию визуализацией:"
   ]
  },
  {
   "cell_type": "code",
   "execution_count": 38,
   "id": "66fdb808-8235-4caa-927e-fffb3042b0ab",
   "metadata": {},
   "outputs": [
    {
     "data": {
      "image/png": "[encoded data removed]",
      "text/plain": [
       "<Figure size 864x432 with 1 Axes>"
      ]
     },
     "metadata": {
      "needs_background": "light"
     },
     "output_type": "display_data"
    }
   ],
   "source": [
    "# Создаём контейнер графика matplotlib и задаём его размер\n",
    "plt.figure(figsize=(12, 6))\n",
    "\n",
    "# Строим столбчатую диаграмму с помощью pandas через plot(kind='bar')\n",
    "df['district'].value_counts(normalize=True).plot(\n",
    "               kind='barh', # Тип графика - линейчатая диаграмма\n",
    "               rot=0, # Градус вращения подписи по оси Х\n",
    "               legend=False, # Выключаем легенду\n",
    "               title=f'Распределение заведений в зависимости от района'\n",
    ")\n",
    "\n",
    "# Настраиваем оформление графика\n",
    "plt.xlabel('Количество заведений')\n",
    "plt.ylabel('Район')\n",
    "# Добавляем сетку графика\n",
    "plt.grid()\n",
    "\n",
    "# Выводим график\n",
    "plt.show()"
   ]
  },
  {
   "cell_type": "code",
   "execution_count": 39,
   "id": "db506e53-2530-4e7f-bcea-5658a26a97d5",
   "metadata": {},
   "outputs": [
    {
     "name": "stdout",
     "output_type": "stream",
     "text": [
      "Распределение заведений по категориям в ЦАО:\n"
     ]
    },
    {
     "data": {
      "text/plain": [
       "category\n",
       "бар,паб            364\n",
       "булочная            50\n",
       "быстрое питание     87\n",
       "кафе               464\n",
       "кофейня            428\n",
       "пиццерия           113\n",
       "ресторан           670\n",
       "столовая            66\n",
       "Name: id, dtype: int64"
      ]
     },
     "execution_count": 39,
     "metadata": {},
     "output_type": "execute_result"
    }
   ],
   "source": [
    "# Посчитаем количество заведений по категориям в ЦАО\n",
    "print('Распределение заведений по категориям в ЦАО:')\n",
    "df.loc[(df['district'] == 'Центральный административный округ')].groupby('category')['id'].nunique()"
   ]
  },
  {
   "cell_type": "code",
   "execution_count": 40,
   "id": "ba5c62e1-4cfc-4933-9a25-f0f64b6673e9",
   "metadata": {},
   "outputs": [
    {
     "name": "stdout",
     "output_type": "stream",
     "text": [
      "Распределение заведений по категориям в ЦАО в относительных значениях:\n"
     ]
    },
    {
     "data": {
      "text/plain": [
       "ресторан           0.298840\n",
       "кафе               0.206958\n",
       "кофейня            0.190901\n",
       "бар,паб            0.162355\n",
       "пиццерия           0.050401\n",
       "быстрое питание    0.038805\n",
       "столовая           0.029438\n",
       "булочная           0.022302\n",
       "Name: category, dtype: float64"
      ]
     },
     "execution_count": 40,
     "metadata": {},
     "output_type": "execute_result"
    }
   ],
   "source": [
    "# Посчитаем количество заведений по категориям в ЦАО\n",
    "print('Распределение заведений по категориям в ЦАО в относительных значениях:')\n",
    "df_sao = df.loc[(df['district'] == 'Центральный административный округ')]\n",
    "df_sao['category'].value_counts(normalize=True)"
   ]
  },
  {
   "cell_type": "markdown",
   "id": "cc42bdbb-03fd-4b69-a614-3678cff04d3b",
   "metadata": {},
   "source": [
    "Сопроводим информацию выше визуализацией:"
   ]
  },
  {
   "cell_type": "code",
   "execution_count": 41,
   "id": "c2c30a9d-3565-4684-9c98-065256a914b7",
   "metadata": {},
   "outputs": [
    {
     "data": {
      "image/png": "[encoded data removed]",
      "text/plain": [
       "<Figure size 864x288 with 1 Axes>"
      ]
     },
     "metadata": {
      "needs_background": "light"
     },
     "output_type": "display_data"
    }
   ],
   "source": [
    "# Создаём контейнер графика matplotlib и задаём его размер\n",
    "plt.figure(figsize=(12, 4))\n",
    "\n",
    "df_sao = df.loc[(df['district'] == 'Центральный административный округ')]\n",
    "# Строим столбчатую диаграмму с помощью pandas через plot(kind='bar')\n",
    "df_sao['category'].value_counts(normalize=True).plot(\n",
    "               kind='bar', # Тип графика - столбчатая диаграмма\n",
    "               rot=0, # Градус вращения подписи по оси Х\n",
    "               legend=False, # Выключаем легенду\n",
    "               title=f'Распределение заведений по категориям в ЦАО'\n",
    ")\n",
    "\n",
    "# Настраиваем оформление графика\n",
    "plt.xlabel('Категория')\n",
    "plt.ylabel('Количество заведений')\n",
    "# Добавляем сетку графика\n",
    "plt.grid()\n",
    "\n",
    "# Выводим график\n",
    "plt.show()"
   ]
  },
  {
   "cell_type": "markdown",
   "id": "aa5f26ae-99f4-4199-8ddb-7a88e512eed6",
   "metadata": {},
   "source": [
    "Мы видим, что в ЦАО преобладают те же категории заведений!"
   ]
  },
  {
   "cell_type": "markdown",
   "id": "1f7a6ad5-5e70-48d5-9aef-2249d183e143",
   "metadata": {},
   "source": [
    "В данных присутствует информация по заведениям следующих районов Москвы: Восточный административный округ, Западный административный округ, Северный административный округ, Северо-Восточный административный округ, Северо-Западный административный округ, Центральный административный округ, Юго-Восточный административный округ, Юго-Западный административный округ, Южный административный округ.\n",
    "\n",
    "В центральном административном округе располагается наибольшее количество заведений (26%), второй по полярности район - Юго-Западный административный округ (10.7%) и на третьем месте Южный административный округ (10.6%). Наименьшее количество заведений находится в Северо-Западном административном округе (4%) и Юго-Западном административном округе (8%).\n",
    "\n",
    "Рассмотрели отдельно категории заведений в Центральном административном районе: наиболее популярные категории - ресторан (29%), кафе (20%) и кофейня (19%). Наименьшей популярностью пользуются булочная (2%), столовая (2%) и заведения быстрого питания (3%)."
   ]
  },
  {
   "cell_type": "markdown",
   "id": "7fe8b9e4-99c4-4704-8231-82826b1ef3dd",
   "metadata": {},
   "source": [
    "___\n",
    "Изучим соотношение сетевых и несетевых заведений в целом по всем данным и в разрезе категорий заведения. Каких заведений больше — сетевых или несетевых? Какие категории заведений чаще являются сетевыми? Исследуем данные, ответим на вопросы и построим необходимые визуализации."
   ]
  },
  {
   "cell_type": "code",
   "execution_count": 42,
   "id": "b91904a9-ca11-4b8d-b846-810cb0a29474",
   "metadata": {},
   "outputs": [
    {
     "name": "stdout",
     "output_type": "stream",
     "text": [
      "Распределение сетевых и несетевых заведений:\n"
     ]
    },
    {
     "data": {
      "text/plain": [
       "chain\n",
       "0    5200\n",
       "1    3203\n",
       "Name: id, dtype: int64"
      ]
     },
     "execution_count": 42,
     "metadata": {},
     "output_type": "execute_result"
    }
   ],
   "source": [
    "# Посчитаем количество сетевых и несетевых заведений \n",
    "print('Распределение сетевых и несетевых заведений:')\n",
    "df.groupby('chain')['id'].nunique()"
   ]
  },
  {
   "cell_type": "code",
   "execution_count": 43,
   "id": "d52b7762-72da-4f17-bc2d-65963d537eec",
   "metadata": {},
   "outputs": [
    {
     "name": "stdout",
     "output_type": "stream",
     "text": [
      "Распределение сетевых и несетевых заведений в относительных значениях:\n"
     ]
    },
    {
     "data": {
      "text/plain": [
       "0    0.618827\n",
       "1    0.381173\n",
       "Name: chain, dtype: float64"
      ]
     },
     "execution_count": 43,
     "metadata": {},
     "output_type": "execute_result"
    }
   ],
   "source": [
    "# Посчитаем количество сетевых и несетевых заведений \n",
    "print('Распределение сетевых и несетевых заведений в относительных значениях:')\n",
    "df['chain'].value_counts(normalize=True)"
   ]
  },
  {
   "cell_type": "code",
   "execution_count": 44,
   "id": "52ed8ad4-ce69-447a-8571-7630ef110517",
   "metadata": {},
   "outputs": [
    {
     "data": {
      "image/png": "[encoded data removed]",
      "text/plain": [
       "<Figure size 432x216 with 1 Axes>"
      ]
     },
     "metadata": {
      "needs_background": "light"
     },
     "output_type": "display_data"
    }
   ],
   "source": [
    "# Создаём контейнер графика matplotlib и задаём его размер\n",
    "plt.figure(figsize=(6, 3))\n",
    "\n",
    "# Строим столбчатую диаграмму с помощью pandas через plot(kind='bar')\n",
    "df['chain'].value_counts(normalize=True).plot(\n",
    "               kind='bar', # Тип графика - столбчатая диаграмма\n",
    "               rot=0, # Градус вращения подписи по оси Х\n",
    "               legend=False, # Выключаем легенду\n",
    "               title=f'Распределение сетевых и несетевых заведений'\n",
    ")\n",
    "\n",
    "# Настраиваем оформление графика\n",
    "plt.xlabel('Тип заведения: 1 - сетевое, 0 - не сетевое')\n",
    "plt.ylabel('Даля заведений')\n",
    "# Добавляем сетку графика\n",
    "plt.grid()\n",
    "\n",
    "# Выводим график\n",
    "plt.show()"
   ]
  },
  {
   "cell_type": "markdown",
   "id": "e9653738-045d-46b2-bcb8-02e7af55910b",
   "metadata": {},
   "source": [
    "Мы видим, что не сетевых заведений больше на 1 995, посмотрим дополнительно на распределение по категориям:"
   ]
  },
  {
   "cell_type": "code",
   "execution_count": 45,
   "id": "cfee206f-8cb9-4c34-a808-e2bdd38ad3c6",
   "metadata": {},
   "outputs": [
    {
     "name": "stdout",
     "output_type": "stream",
     "text": [
      "Распределение сетевых и несетевых заведений:\n"
     ]
    },
    {
     "data": {
      "text/plain": [
       "chain  category       \n",
       "0      бар,паб             596\n",
       "       булочная             99\n",
       "       быстрое питание     371\n",
       "       кафе               1598\n",
       "       кофейня             693\n",
       "       пиццерия            303\n",
       "       ресторан           1313\n",
       "       столовая            227\n",
       "1      бар,паб             168\n",
       "       булочная            157\n",
       "       быстрое питание     232\n",
       "       кафе                779\n",
       "       кофейня             720\n",
       "       пиццерия            330\n",
       "       ресторан            729\n",
       "       столовая             88\n",
       "Name: id, dtype: int64"
      ]
     },
     "execution_count": 45,
     "metadata": {},
     "output_type": "execute_result"
    }
   ],
   "source": [
    "# Посчитаем количество сетевых и несетевых заведений по категориям\n",
    "print('Распределение сетевых и несетевых заведений:')\n",
    "df.groupby(['chain', 'category'])['id'].nunique()"
   ]
  },
  {
   "cell_type": "code",
   "execution_count": 46,
   "id": "8407831b-56db-4d61-ba11-1a39fedab2e5",
   "metadata": {},
   "outputs": [
    {
     "name": "stdout",
     "output_type": "stream",
     "text": [
      "Распределение категорий сетевых заведений в относительных значениях:\n"
     ]
    },
    {
     "data": {
      "text/plain": [
       "бар,паб            0.219895\n",
       "булочная           0.613281\n",
       "быстрое питание    0.384743\n",
       "кафе               0.327724\n",
       "кофейня            0.509554\n",
       "пиццерия           0.521327\n",
       "ресторан           0.357003\n",
       "столовая           0.279365\n",
       "Name: category, dtype: float64"
      ]
     },
     "execution_count": 46,
     "metadata": {},
     "output_type": "execute_result"
    }
   ],
   "source": [
    "# Посчитаем долю сетевых и несетевых заведений по категориям\n",
    "print('Распределение категорий сетевых заведений в относительных значениях:')\n",
    "df_sao = df.loc[(df['chain'] == 1)]\n",
    "df_sao['category'].value_counts(normalize=True)\n",
    "\n",
    "category_count = df_sao['category'].value_counts()\n",
    "total_count = df['category'].value_counts()\n",
    "proportion = category_count / total_count\n",
    "proportion"
   ]
  },
  {
   "cell_type": "markdown",
   "id": "1b333124-cc0e-401d-a994-d883606aa89c",
   "metadata": {},
   "source": [
    "Кафе, ресторан и кофейня лидируют среди сетевых заведений по количеству, посмотрим это на визуализации:"
   ]
  },
  {
   "cell_type": "code",
   "execution_count": 47,
   "id": "634e6187-9e84-4ccf-b7d3-ae166322dea5",
   "metadata": {},
   "outputs": [
    {
     "data": {
      "image/png": "[encoded data removed]",
      "text/plain": [
       "<Figure size 864x432 with 1 Axes>"
      ]
     },
     "metadata": {
      "needs_background": "light"
     },
     "output_type": "display_data"
    }
   ],
   "source": [
    "# Создаём контейнер графика matplotlib и задаём его размер\n",
    "plt.figure(figsize=(12, 6))\n",
    "\n",
    "# Строим столбчатую диаграмму с помощью pandas через plot(kind='bar')\n",
    "proportion.plot(kind='bar', # Тип графика - столбчатая диаграмма\n",
    "               rot=0, # Градус вращения подписи по оси Х\n",
    "               legend=False, # Выключаем легенду\n",
    "               title=f'Распределение сетевых заведений по категориям'\n",
    ")\n",
    "\n",
    "# Настраиваем оформление графика\n",
    "plt.xlabel('Категория')\n",
    "plt.ylabel('Доля заведений')\n",
    "# Добавляем сетку графика\n",
    "plt.grid()\n",
    "\n",
    "# Выводим график\n",
    "plt.show()"
   ]
  },
  {
   "cell_type": "markdown",
   "id": "8940dc28-6224-4c9f-b0f3-7ee65bd1e3b9",
   "metadata": {},
   "source": [
    "Количество не сетевых заведений преобладает над количеством сетевых (5 201 к 3 205), 62% не сетевых заведений в городе и 38% сетевых. \n",
    "\n",
    "Мы рассмотрели категории сетевых заведений, чтобы понять, какие встречаются чаще. Можно сделать вывод, что в тройку лидеров вошли: кафе (24%), рестораны (23%) и кофейни (22%). Меньше всего сетевых заведений по категориям столовая (3%) и булочная (4%).\n",
    "\n",
    "Больше всего сетевых заведений встречается среди булочных (61%), пиццерий (52%) и кофейни (51%)."
   ]
  },
  {
   "cell_type": "markdown",
   "id": "bc89e6a6-56f9-4a17-81e8-f278d9310890",
   "metadata": {},
   "source": [
    "___\n",
    "Исследуем количество посадочных мест в заведениях. Посмотрим, встречаются ли в данных аномальные значения или выбросы. И если да, то с чем они могут быть связаны. Приведем для каждой категории заведений наиболее типичное для него количество посадочных мест. Результат сопроводим подходящими визуализациями.\n"
   ]
  },
  {
   "cell_type": "code",
   "execution_count": 48,
   "id": "0f189a28-137e-4101-be03-770c73241678",
   "metadata": {},
   "outputs": [
    {
     "data": {
      "text/plain": [
       "array([  -1,    0,    1,    2,    3,    4,    5,    6,    7,    8,    9,\n",
       "         10,   12,   13,   14,   15,   16,   17,   18,   19,   20,   21,\n",
       "         22,   24,   25,   26,   27,   28,   29,   30,   32,   33,   34,\n",
       "         35,   36,   37,   38,   39,   40,   41,   42,   43,   44,   45,\n",
       "         46,   47,   48,   49,   50,   51,   52,   53,   54,   55,   56,\n",
       "         58,   60,   61,   62,   63,   64,   65,   66,   67,   68,   69,\n",
       "         70,   72,   74,   75,   76,   77,   78,   79,   80,   81,   82,\n",
       "         83,   84,   85,   86,   87,   88,   90,   92,   93,   94,   95,\n",
       "         96,   97,   98,   99,  100,  102,  104,  105,  106,  107,  108,\n",
       "        110,  112,  113,  114,  115,  116,  118,  120,  122,  124,  125,\n",
       "        126,  127,  128,  130,  131,  132,  133,  135,  138,  140,  141,\n",
       "        143,  144,  145,  146,  147,  148,  150,  151,  154,  155,  157,\n",
       "        158,  159,  160,  161,  164,  165,  166,  167,  168,  170,  173,\n",
       "        174,  175,  176,  178,  180,  184,  185,  187,  188,  189,  190,\n",
       "        192,  195,  198,  200,  202,  206,  208,  210,  212,  214,  215,\n",
       "        217,  220,  225,  226,  228,  229,  230,  232,  236,  239,  240,\n",
       "        245,  246,  247,  250,  252,  266,  268,  270,  273,  275,  276,\n",
       "        280,  286,  287,  290,  295,  300,  305,  306,  307,  308,  310,\n",
       "        320,  326,  330,  343,  350,  356,  380,  398,  400,  420,  428,\n",
       "        430,  450,  455,  478,  480,  481,  491,  495,  500,  585,  600,\n",
       "        625,  644,  650,  660,  675,  760,  920, 1040, 1200, 1288],\n",
       "      dtype=int16)"
      ]
     },
     "execution_count": 48,
     "metadata": {},
     "output_type": "execute_result"
    }
   ],
   "source": [
    "# выведем уникальные значения кол-ва посадочных мест\n",
    "df['seats'].sort_values().unique()"
   ]
  },
  {
   "cell_type": "markdown",
   "id": "4b8ad007-38df-4b7a-8b16-9fc71796ed30",
   "metadata": {},
   "source": [
    "Создадим визуализацию распределения, исключив информацию с индикатором -1, так как это отсутствующие для нас данные и они будут коверкать визуализацию"
   ]
  },
  {
   "cell_type": "code",
   "execution_count": 49,
   "id": "462a3f95-a5c4-4212-8b65-652b7c3324c9",
   "metadata": {},
   "outputs": [
    {
     "data": {
      "text/plain": [
       "count    4792.000000\n",
       "mean      108.361436\n",
       "std       122.841130\n",
       "min         0.000000\n",
       "25%        40.000000\n",
       "50%        75.000000\n",
       "75%       140.000000\n",
       "max      1288.000000\n",
       "Name: seats, dtype: float64"
      ]
     },
     "execution_count": 49,
     "metadata": {},
     "output_type": "execute_result"
    }
   ],
   "source": [
    "df_seats = df.loc[df['seats'] >= 0]\n",
    "df_seats['seats'].describe()"
   ]
  },
  {
   "cell_type": "markdown",
   "id": "77eea07c-f4a1-4014-9215-f57ce7e927f7",
   "metadata": {},
   "source": [
    "Стандартное отклонение (122) немного превышает значение среднего (108), что говорит о вариативности значений. Минимальное значение 0, максимальное 1288, верхняя граница во много раз превышает среднее значение, что говорит о наличии выбросов, которые могут влиять на общий характер распределения. Поскольку медиана (75) ниже среднего значения, это означает, что распределение асимметрично и смещено вправо. Вероятно, большое количество малых значений тянет медиану вниз, тогда как высокие выбросы сдвигают среднее вверх."
   ]
  },
  {
   "cell_type": "code",
   "execution_count": 50,
   "id": "8419312f-e6cd-4d3d-baa1-46b1af3937a5",
   "metadata": {},
   "outputs": [
    {
     "data": {
      "image/png": "[encoded data removed]",
      "text/plain": [
       "<Figure size 504x216 with 1 Axes>"
      ]
     },
     "metadata": {
      "needs_background": "light"
     },
     "output_type": "display_data"
    }
   ],
   "source": [
    "# Создаём контейнер графика matplotlib и задаём его размер\n",
    "plt.figure(figsize=(7, 3))\n",
    "\n",
    "# Строим гистограмму с помощью pandas через plot(kind='hist')\n",
    "df_seats['seats'].plot(\n",
    "                kind='hist', # Тип графика - гистограмма\n",
    "                bins=37, # Устанавливаем количество корзин\n",
    "                alpha=0.75,\n",
    "                edgecolor='black',\n",
    "                rot=0, # Градус вращения подписи по оси Х\n",
    ")\n",
    "\n",
    "# Настраиваем оформление графика\n",
    "plt.title('Распределение по кол-ву посадочных мест')\n",
    "plt.xlabel('Кол-во мест')\n",
    "plt.ylabel('Частота')\n",
    "# Добавляем сетку графика\n",
    "plt.grid()\n",
    "\n",
    "# Выводим график\n",
    "plt.show()"
   ]
  },
  {
   "cell_type": "code",
   "execution_count": 51,
   "id": "d541c46e-fcd6-4224-b60d-41d4be1d25a1",
   "metadata": {},
   "outputs": [
    {
     "data": {
      "image/png": "[encoded data removed]",
      "text/plain": [
       "<Figure size 504x144 with 1 Axes>"
      ]
     },
     "metadata": {
      "needs_background": "light"
     },
     "output_type": "display_data"
    }
   ],
   "source": [
    "# Создаём контейнер графика matplotlib и задаём его размер\n",
    "plt.figure(figsize=(7, 2))\n",
    "\n",
    "# Строим диаграмму размаха значений в столбце score\n",
    "df_seats.boxplot(column='seats', vert=False)\n",
    "\n",
    "# Добавляем заголовок и метки оси\n",
    "plt.title('Распределение значений кол-ва посадочных мест')\n",
    "plt.xlabel('Кол-ва посадочных мест')\n",
    "\n",
    "# Выводим график\n",
    "plt.show()"
   ]
  },
  {
   "cell_type": "markdown",
   "id": "d6d0cc69-b0da-4ee5-873b-899d56df6c91",
   "metadata": {},
   "source": [
    "Отдельно изучим категории заведений со значениями выше 800, так как это уже большое число посадочных мест для обычных заведений. "
   ]
  },
  {
   "cell_type": "code",
   "execution_count": 52,
   "id": "5c223d83-debd-4a12-80cc-ea396baa36be",
   "metadata": {},
   "outputs": [
    {
     "data": {
      "text/plain": [
       "category\n",
       "бар,паб            4\n",
       "быстрое питание    1\n",
       "кафе               4\n",
       "кофейня            3\n",
       "пиццерия           1\n",
       "ресторан           4\n",
       "столовая           1\n",
       "Name: id, dtype: int64"
      ]
     },
     "execution_count": 52,
     "metadata": {},
     "output_type": "execute_result"
    }
   ],
   "source": [
    "df_anomal = df.loc[df['seats'] >= 800]\n",
    "df_anomal.groupby('category')['id'].nunique()"
   ]
  },
  {
   "cell_type": "markdown",
   "id": "00018860-4cf9-4ef6-9947-d4f45b47b06e",
   "metadata": {},
   "source": [
    "Данные выглядят очень странно, так как для бара, паба не свойственно кол-во посадочных мест выше 800, для кофейни тоже, остальные заведения еще с натяжкой могут подойти под такое большое количество мест. Объяснить аномальные значения можно ошибкой в данных. "
   ]
  },
  {
   "cell_type": "code",
   "execution_count": 53,
   "id": "7074479e-68c0-4a98-933c-a761f74b798f",
   "metadata": {},
   "outputs": [
    {
     "name": "stdout",
     "output_type": "stream",
     "text": [
      "Распределение посадочных мест по категориям:\n"
     ]
    },
    {
     "data": {
      "text/plain": [
       "category\n",
       "бар,паб            82.0\n",
       "булочная           50.0\n",
       "быстрое питание    65.0\n",
       "кафе               60.0\n",
       "кофейня            80.0\n",
       "пиццерия           55.0\n",
       "ресторан           86.0\n",
       "столовая           75.5\n",
       "Name: seats, dtype: float64"
      ]
     },
     "execution_count": 53,
     "metadata": {},
     "output_type": "execute_result"
    }
   ],
   "source": [
    "print('Распределение посадочных мест по категориям:')\n",
    "df_seats.groupby('category')['seats'].agg(pd.Series.median)"
   ]
  },
  {
   "cell_type": "markdown",
   "id": "234fa9ed-9d6f-4943-8b48-67fea2a9b4b8",
   "metadata": {},
   "source": [
    "Но вот распределение наиболее типичного кол-ва мест для каждой категории выглядит уже получше и более реалистично!"
   ]
  },
  {
   "cell_type": "code",
   "execution_count": 54,
   "id": "726db27a-37e8-4f57-a816-3c734b86badb",
   "metadata": {},
   "outputs": [
    {
     "data": {
      "image/png": "[encoded data removed]",
      "text/plain": [
       "<Figure size 1008x432 with 1 Axes>"
      ]
     },
     "metadata": {
      "needs_background": "light"
     },
     "output_type": "display_data"
    }
   ],
   "source": [
    "avg_seats_by_category = df_seats.groupby('category')['seats'].agg(pd.Series.median)\n",
    "\n",
    "# Строим столбчатую диаграмму\n",
    "plt.figure(figsize=(14, 6))\n",
    "ax = avg_seats_by_category.plot(x='category', \n",
    "                                y='seats', \n",
    "                                kind='bar', \n",
    "                                rot=0)\n",
    "\n",
    "# Настраиваем оформление графика\n",
    "plt.title('Распределение посадочных мест по категориям')\n",
    "plt.xlabel('Категория заведения')\n",
    "plt.ylabel('Количество посадочных мест')\n",
    "\n",
    "# Выводим график\n",
    "plt.show()"
   ]
  },
  {
   "cell_type": "markdown",
   "id": "e28a76d5-50a5-4a11-968f-efcaaeec66fc",
   "metadata": {},
   "source": [
    "Количество посадочных мест имеет достаточно сильную неоднородность: в данных присутствуют выбросы, которые влияют на их распределение. Возможно, некоторые заведения располагаются в больших торговых центрах или на стадионах, что завышает средние показатели по количеству мест в этих заведениях, но таких случаи единичны. Рассмотрели медиану значений по категорий заведений, можно сделать вывод, что в кафе медианное количество мест равно 60, в ресторане 86, в кофейне 80. Наименьшее количество посадочных мест в булочной (50) и в пиццерии (55). "
   ]
  },
  {
   "cell_type": "markdown",
   "id": "8c6b8d08-814d-4a52-a6f4-f4df21fe0b42",
   "metadata": {},
   "source": [
    "___\n",
    "Исследуем рейтинг заведений. Визуализируем распределение средних рейтингов по категориям заведений и посмотрим, сильно ли различаются усреднённые рейтинги для разных типов общепита"
   ]
  },
  {
   "cell_type": "code",
   "execution_count": 55,
   "id": "da6e4da4-5a55-4e80-aa01-2d328737071b",
   "metadata": {},
   "outputs": [
    {
     "data": {
      "text/plain": [
       "count    8403.000000\n",
       "mean        4.229894\n",
       "std         0.470426\n",
       "min         1.000000\n",
       "25%         4.100000\n",
       "50%         4.300000\n",
       "75%         4.400000\n",
       "max         5.000000\n",
       "Name: rating, dtype: float64"
      ]
     },
     "execution_count": 55,
     "metadata": {},
     "output_type": "execute_result"
    }
   ],
   "source": [
    "df['rating'].describe()"
   ]
  },
  {
   "cell_type": "markdown",
   "id": "0f0c18bd-e7ca-4075-89ab-88a59df4e6e1",
   "metadata": {},
   "source": [
    "Небольшое стандартное отклонение (0.47) говорит о том, что большинство значений сконцентрировано близко к друг другу. Первый квартиль (25%) — 4.1, медиана (50%) — 4.3, третий квартиль (75%) — 4.4. Эти величины близки друг к другу, что свидетельствует о симметрии и равномерности распределения. Минимальное значение - 1, а максимальное - 5, что свидетельствует об отсутствии ошибок в данных."
   ]
  },
  {
   "cell_type": "code",
   "execution_count": 56,
   "id": "e281cdd8-32e1-41b1-a31b-aa56d948b50a",
   "metadata": {},
   "outputs": [
    {
     "name": "stdout",
     "output_type": "stream",
     "text": [
      "Распределение рейтинга по категориям:\n"
     ]
    },
    {
     "data": {
      "text/html": [
       "<div>\n",
       "<style scoped>\n",
       "    .dataframe tbody tr th:only-of-type {\n",
       "        vertical-align: middle;\n",
       "    }\n",
       "\n",
       "    .dataframe tbody tr th {\n",
       "        vertical-align: top;\n",
       "    }\n",
       "\n",
       "    .dataframe thead th {\n",
       "        text-align: right;\n",
       "    }\n",
       "</style>\n",
       "<table border=\"1\" class=\"dataframe\">\n",
       "  <thead>\n",
       "    <tr style=\"text-align: right;\">\n",
       "      <th></th>\n",
       "      <th>count</th>\n",
       "      <th>mean</th>\n",
       "      <th>std</th>\n",
       "      <th>min</th>\n",
       "      <th>25%</th>\n",
       "      <th>50%</th>\n",
       "      <th>75%</th>\n",
       "      <th>max</th>\n",
       "    </tr>\n",
       "    <tr>\n",
       "      <th>category</th>\n",
       "      <th></th>\n",
       "      <th></th>\n",
       "      <th></th>\n",
       "      <th></th>\n",
       "      <th></th>\n",
       "      <th></th>\n",
       "      <th></th>\n",
       "      <th></th>\n",
       "    </tr>\n",
       "  </thead>\n",
       "  <tbody>\n",
       "    <tr>\n",
       "      <th>бар,паб</th>\n",
       "      <td>764.0</td>\n",
       "      <td>4.387697</td>\n",
       "      <td>0.380392</td>\n",
       "      <td>1.1</td>\n",
       "      <td>4.3</td>\n",
       "      <td>4.4</td>\n",
       "      <td>4.6</td>\n",
       "      <td>5.0</td>\n",
       "    </tr>\n",
       "    <tr>\n",
       "      <th>булочная</th>\n",
       "      <td>256.0</td>\n",
       "      <td>4.268360</td>\n",
       "      <td>0.386303</td>\n",
       "      <td>1.3</td>\n",
       "      <td>4.2</td>\n",
       "      <td>4.3</td>\n",
       "      <td>4.4</td>\n",
       "      <td>5.0</td>\n",
       "    </tr>\n",
       "    <tr>\n",
       "      <th>быстрое питание</th>\n",
       "      <td>603.0</td>\n",
       "      <td>4.050249</td>\n",
       "      <td>0.560949</td>\n",
       "      <td>1.1</td>\n",
       "      <td>3.9</td>\n",
       "      <td>4.2</td>\n",
       "      <td>4.3</td>\n",
       "      <td>5.0</td>\n",
       "    </tr>\n",
       "    <tr>\n",
       "      <th>кафе</th>\n",
       "      <td>2377.0</td>\n",
       "      <td>4.123896</td>\n",
       "      <td>0.566200</td>\n",
       "      <td>1.0</td>\n",
       "      <td>4.0</td>\n",
       "      <td>4.2</td>\n",
       "      <td>4.4</td>\n",
       "      <td>5.0</td>\n",
       "    </tr>\n",
       "    <tr>\n",
       "      <th>кофейня</th>\n",
       "      <td>1413.0</td>\n",
       "      <td>4.277283</td>\n",
       "      <td>0.372250</td>\n",
       "      <td>1.4</td>\n",
       "      <td>4.1</td>\n",
       "      <td>4.3</td>\n",
       "      <td>4.4</td>\n",
       "      <td>5.0</td>\n",
       "    </tr>\n",
       "    <tr>\n",
       "      <th>пиццерия</th>\n",
       "      <td>633.0</td>\n",
       "      <td>4.301264</td>\n",
       "      <td>0.336162</td>\n",
       "      <td>1.0</td>\n",
       "      <td>4.2</td>\n",
       "      <td>4.3</td>\n",
       "      <td>4.4</td>\n",
       "      <td>5.0</td>\n",
       "    </tr>\n",
       "    <tr>\n",
       "      <th>ресторан</th>\n",
       "      <td>2042.0</td>\n",
       "      <td>4.290401</td>\n",
       "      <td>0.413143</td>\n",
       "      <td>1.0</td>\n",
       "      <td>4.2</td>\n",
       "      <td>4.3</td>\n",
       "      <td>4.5</td>\n",
       "      <td>5.0</td>\n",
       "    </tr>\n",
       "    <tr>\n",
       "      <th>столовая</th>\n",
       "      <td>315.0</td>\n",
       "      <td>4.211429</td>\n",
       "      <td>0.454205</td>\n",
       "      <td>1.0</td>\n",
       "      <td>4.1</td>\n",
       "      <td>4.3</td>\n",
       "      <td>4.4</td>\n",
       "      <td>5.0</td>\n",
       "    </tr>\n",
       "  </tbody>\n",
       "</table>\n",
       "</div>"
      ],
      "text/plain": [
       "                  count      mean       std  min  25%  50%  75%  max\n",
       "category                                                            \n",
       "бар,паб           764.0  4.387697  0.380392  1.1  4.3  4.4  4.6  5.0\n",
       "булочная          256.0  4.268360  0.386303  1.3  4.2  4.3  4.4  5.0\n",
       "быстрое питание   603.0  4.050249  0.560949  1.1  3.9  4.2  4.3  5.0\n",
       "кафе             2377.0  4.123896  0.566200  1.0  4.0  4.2  4.4  5.0\n",
       "кофейня          1413.0  4.277283  0.372250  1.4  4.1  4.3  4.4  5.0\n",
       "пиццерия          633.0  4.301264  0.336162  1.0  4.2  4.3  4.4  5.0\n",
       "ресторан         2042.0  4.290401  0.413143  1.0  4.2  4.3  4.5  5.0\n",
       "столовая          315.0  4.211429  0.454205  1.0  4.1  4.3  4.4  5.0"
      ]
     },
     "execution_count": 56,
     "metadata": {},
     "output_type": "execute_result"
    }
   ],
   "source": [
    "print('Распределение рейтинга по категориям:')\n",
    "df.groupby('category')['rating'].describe()"
   ]
  },
  {
   "cell_type": "markdown",
   "id": "ad426795-13ee-4a23-a5fa-e435b49bf7ac",
   "metadata": {},
   "source": [
    "Среди всех заведений оценки примерно одинаковые и находятся в районе 4.0-4.4"
   ]
  },
  {
   "cell_type": "code",
   "execution_count": 57,
   "id": "bff02361-c5ef-4fe2-bc0e-15078bacd94d",
   "metadata": {},
   "outputs": [
    {
     "data": {
      "image/png": "[encoded data removed]",
      "text/plain": [
       "<Figure size 1008x432 with 1 Axes>"
      ]
     },
     "metadata": {
      "needs_background": "light"
     },
     "output_type": "display_data"
    }
   ],
   "source": [
    "avg_rating_by_category = df.groupby('category')['rating'].mean()\n",
    "\n",
    "# Строим столбчатую диаграмму\n",
    "plt.figure(figsize=(14, 6))\n",
    "ax = avg_rating_by_category.plot(x='category', \n",
    "                                y='rating', \n",
    "                                kind='bar', \n",
    "                                rot=0)\n",
    "\n",
    "# Настраиваем оформление графика\n",
    "plt.title('Распределение рейтинга по категориям')\n",
    "plt.xlabel('Категория заведения')\n",
    "plt.ylabel('Рейтинг')\n",
    "\n",
    "# Выводим график\n",
    "plt.show()"
   ]
  },
  {
   "cell_type": "markdown",
   "id": "7ac8f99f-4087-4c5c-a45e-1d4cd3aefb75",
   "metadata": {},
   "source": [
    "В целом рейтинг заведений для всех категорий примерно одинаковый. "
   ]
  },
  {
   "cell_type": "markdown",
   "id": "8480828b",
   "metadata": {},
   "source": [
    "В целом оценки заведений примерно близки к друг другу и вариьруются в диапазоне от 4.0 до 4.5. \n",
    "Самая высокая средняя оценка у категории бар, паб (4.38), диапазон большей части оценок у этой категории от 4.3 до 4.6. Минимальная средняя оценка у заведений быстрого питания (4.05), диапазон большего количества оценок в рамках от 3.9 до 4.3.\n",
    "\n",
    "Все значения оценок близки к друг другу, отсутствуют категории с явным большим количеством положительных оценок или явным количеством отрицательных оценок. "
   ]
  },
  {
   "cell_type": "markdown",
   "id": "a1702179-1cd7-4577-91a6-ce402a6bcafa",
   "metadata": {},
   "source": [
    "___\n",
    "Изучим, с какими данными показывают самую сильную корреляцию рейтинги заведений? Построим и визуализируем матрицу корреляции рейтинга заведения с разными данными: его категория, положение (административный район Москвы), статус сетевого заведения, количество мест, ценовая категория и признак, является ли заведения круглосуточным. Выберем самую сильную связь и проверим её."
   ]
  },
  {
   "cell_type": "code",
   "execution_count": 58,
   "id": "4e4e4f90-d564-4fc3-84a7-5d1abb055177",
   "metadata": {},
   "outputs": [
    {
     "name": "stdout",
     "output_type": "stream",
     "text": [
      "<class 'pandas.core.frame.DataFrame'>\n",
      "Int64Index: 8403 entries, 0 to 8405\n",
      "Data columns (total 14 columns):\n",
      " #   Column             Non-Null Count  Dtype  \n",
      "---  ------             --------------  -----  \n",
      " 0   id                 8403 non-null   object \n",
      " 1   price              3315 non-null   object \n",
      " 2   avg_bill           8403 non-null   object \n",
      " 3   middle_avg_bill    3149 non-null   float32\n",
      " 4   middle_coffee_cup  535 non-null    float32\n",
      " 5   name               8403 non-null   object \n",
      " 6   category           8403 non-null   object \n",
      " 7   address            8403 non-null   object \n",
      " 8   district           8403 non-null   object \n",
      " 9   hours              7868 non-null   object \n",
      " 10  rating             8403 non-null   float32\n",
      " 11  chain              8403 non-null   int8   \n",
      " 12  seats              4792 non-null   float64\n",
      " 13  is_24_7            8403 non-null   bool   \n",
      "dtypes: bool(1), float32(3), float64(1), int8(1), object(8)\n",
      "memory usage: 771.4+ KB\n"
     ]
    }
   ],
   "source": [
    "# создадим копию датасета и заменим поставленные заглушки на пропуски\n",
    "df_corr = df.copy()\n",
    "df_corr['seats'] = df_corr['seats'].replace(-1, np.nan)\n",
    "df_corr['price'] = df_corr['price'].replace('не указано', np.nan)\n",
    "df_corr['hours'] = df_corr['hours'].replace('не указано', np.nan)\n",
    "df_corr['avg_bill'] = df_corr['avg_bill'].replace(0, np.nan)\n",
    "df_corr['middle_avg_bill'] = df_corr['middle_avg_bill'].replace(-1, np.nan)\n",
    "df_corr['middle_coffee_cup'] = df_corr['middle_coffee_cup'].replace(-1, np.nan)\n",
    "df_corr.info()"
   ]
  },
  {
   "cell_type": "code",
   "execution_count": 59,
   "id": "bd00a331-dded-4360-a564-958db82b51cd",
   "metadata": {},
   "outputs": [
    {
     "name": "stdout",
     "output_type": "stream",
     "text": [
      "interval columns not set, guessing: ['rating', 'chain', 'seats']\n",
      "Корреляционная матрица с коэффициентом phi_k для переменной rating\n"
     ]
    },
    {
     "data": {
      "text/html": [
       "<div>\n",
       "<style scoped>\n",
       "    .dataframe tbody tr th:only-of-type {\n",
       "        vertical-align: middle;\n",
       "    }\n",
       "\n",
       "    .dataframe tbody tr th {\n",
       "        vertical-align: top;\n",
       "    }\n",
       "\n",
       "    .dataframe thead th {\n",
       "        text-align: right;\n",
       "    }\n",
       "</style>\n",
       "<table border=\"1\" class=\"dataframe\">\n",
       "  <thead>\n",
       "    <tr style=\"text-align: right;\">\n",
       "      <th></th>\n",
       "      <th>rating</th>\n",
       "    </tr>\n",
       "  </thead>\n",
       "  <tbody>\n",
       "    <tr>\n",
       "      <th>price</th>\n",
       "      <td>0.262056</td>\n",
       "    </tr>\n",
       "    <tr>\n",
       "      <th>category</th>\n",
       "      <td>0.198917</td>\n",
       "    </tr>\n",
       "    <tr>\n",
       "      <th>district</th>\n",
       "      <td>0.189389</td>\n",
       "    </tr>\n",
       "    <tr>\n",
       "      <th>is_24_7</th>\n",
       "      <td>0.160864</td>\n",
       "    </tr>\n",
       "    <tr>\n",
       "      <th>chain</th>\n",
       "      <td>0.119061</td>\n",
       "    </tr>\n",
       "    <tr>\n",
       "      <th>seats</th>\n",
       "      <td>0.000000</td>\n",
       "    </tr>\n",
       "  </tbody>\n",
       "</table>\n",
       "</div>"
      ],
      "text/plain": [
       "            rating\n",
       "price     0.262056\n",
       "category  0.198917\n",
       "district  0.189389\n",
       "is_24_7   0.160864\n",
       "chain     0.119061\n",
       "seats     0.000000"
      ]
     },
     "execution_count": 59,
     "metadata": {},
     "output_type": "execute_result"
    }
   ],
   "source": [
    "# Вычисляем корреляционную матрицу с использованием phi_k\n",
    "correlation_matrix = df_corr[['rating', 'category', 'district', 'chain', 'seats', 'price', 'is_24_7']].phik_matrix()\n",
    "\n",
    "# Выводим результат\n",
    "print('Корреляционная матрица с коэффициентом phi_k для переменной rating')\n",
    "correlation_matrix.loc[correlation_matrix.index != 'rating'][['rating']].sort_values(by='rating', ascending=False)"
   ]
  },
  {
   "cell_type": "markdown",
   "id": "2f76d76a-94ff-4878-8c6e-b646b4ffa11f",
   "metadata": {},
   "source": [
    "Мы видим, что рейтинг заведений коррелирует с типом цен (0.26), с категорией заведения (0.19), от района (0.18), с остальными столбцами кореляция варьируется от 0 до 0.16. \n",
    "\n",
    "Перед тем как перейти к дальнейшему анализу, визуализируем результат корреляции с помощью тепловой карты и библиотеки seaborn:"
   ]
  },
  {
   "cell_type": "code",
   "execution_count": 60,
   "id": "ed238f13-4405-4529-ac65-ef9c4cc3f548",
   "metadata": {},
   "outputs": [
    {
     "data": {
      "image/png": "[encoded data removed]",
      "text/plain": [
       "<Figure size 144x432 with 1 Axes>"
      ]
     },
     "metadata": {
      "needs_background": "light"
     },
     "output_type": "display_data"
    }
   ],
   "source": [
    "# Строим тепловую карту\n",
    "plt.figure(figsize=(2, 6))\n",
    "\n",
    "# Сохраняем матрицу корреляции признака churn с другими признаками клиента\n",
    "data_heatmap = correlation_matrix.loc[correlation_matrix.index != 'rating'][['rating']].sort_values(by='rating', ascending=False)\n",
    "sns.heatmap(data_heatmap,\n",
    "            annot=True, # Отображаем численные значения в ячейках карты\n",
    "            fmt='.2f', # Форматируем значения корреляции: два знака после точки\n",
    "            cmap='coolwarm', # Устанавливаем цветовую гамму от красного (макс. значение) к синему\n",
    "            linewidths=0.5, # Форматируем линию между ячейками карты\n",
    "            cbar=False # Отключаем цветовую шкалу\n",
    "           )\n",
    "\n",
    "# Добавляем заголовок и подпись по оси Х\n",
    "plt.title('Тепловая карта коэффициента phi_k \\n для данных rating')\n",
    "plt.xlabel('Взаимосвязь')\n",
    "\n",
    "# Выводим график\n",
    "plt.show()"
   ]
  },
  {
   "cell_type": "code",
   "execution_count": 61,
   "id": "e0f96e66-02ea-4f3b-ac1f-631131fe4997",
   "metadata": {},
   "outputs": [
    {
     "data": {
      "image/png": "[encoded data removed]",
      "text/plain": [
       "<Figure size 504x216 with 1 Axes>"
      ]
     },
     "metadata": {
      "needs_background": "light"
     },
     "output_type": "display_data"
    }
   ],
   "source": [
    "# Построим график столбчатой диаграммы\n",
    "df['round_rating'] = round(df['rating'])\n",
    "grouped = df.groupby('price')['round_rating'].value_counts(normalize=True).unstack(fill_value=0)\n",
    "grouped.plot(kind='bar',\n",
    "               title=f'Распределение оценок в зависимости от стоимости',\n",
    "               legend=True,\n",
    "               ylabel='Стоимость',\n",
    "               xlabel='Оценки',\n",
    "               rot=0,\n",
    "               figsize=(7, 3))\n",
    "plt.grid()\n",
    "\n",
    "# Выводим график\n",
    "plt.show()"
   ]
  },
  {
   "cell_type": "markdown",
   "id": "aea3b7e3-4f24-436a-b6b8-9913e3c32c51",
   "metadata": {},
   "source": [
    "Теперь корреляция между рейтингом и другими признаками наглядно отображена. Можно продолжить исследование данных."
   ]
  },
  {
   "cell_type": "markdown",
   "id": "114bd9be",
   "metadata": {},
   "source": [
    "Большинство факторов имеют слабые положительные связи с рейтингом заведений. Среди них самая заметная связь наблюдается с ценой, но и она сравнительно мала. Остальные признаки демонстрируют крайне низкую значимость в предсказании рейтинга.\n",
    "\n",
    "Тем не менее, согласно полученной корреляционной матрице, ни один из перечисленных признаков не оказывает решающего влияния на рейтинг заведения. Это подсказывает, что существуют другие скрытые факторы, определяющие привлекательность заведения, такие как качество обслуживания, атмосфера, чистота и другие субъективные параметры, которые не были учтены в исследовании.\n",
    "\n",
    "Однако стоимость из всех факторов наибольшим образом (насколько это явно выражено) показывает связь с рейтингом. Предположительно более низкое ценообразование может более положительно влиять на выставление оценок, что показала визуализация распределения оценок по категориям цен."
   ]
  },
  {
   "cell_type": "markdown",
   "id": "0aad6732-af7d-4c1f-8088-87f51ae7fe8c",
   "metadata": {},
   "source": [
    "___\n",
    "Сгруппируем данные по названиям заведений и найдем топ-15 популярных сетей в Москве. Для них посчитаем значения среднего рейтинга. Под популярностью понимается количество заведений этой сети в регионе. Посмотрим, к какой категории заведений они относятся."
   ]
  },
  {
   "cell_type": "code",
   "execution_count": 62,
   "id": "b6ca833f",
   "metadata": {},
   "outputs": [
    {
     "name": "stdout",
     "output_type": "stream",
     "text": [
      "Топ-15 сетевых заведений:\n"
     ]
    },
    {
     "data": {
      "text/plain": [
       "name                                 category\n",
       "шоколадница                          кофейня     119\n",
       "домино'с пицца                       пиццерия     76\n",
       "додо пицца                           пиццерия     74\n",
       "one price coffee                     кофейня      71\n",
       "яндекс лавка                         ресторан     69\n",
       "cofix                                кофейня      65\n",
       "prime                                ресторан     49\n",
       "кофепорт                             кофейня      42\n",
       "кулинарная лавка братьев караваевых  кафе         39\n",
       "теремок                              ресторан     36\n",
       "cofefest                             кофейня      31\n",
       "чайхана                              кафе         26\n",
       "буханка                              булочная     25\n",
       "drive café                           кафе         24\n",
       "кофемания                            кофейня      22\n",
       "dtype: int64"
      ]
     },
     "execution_count": 62,
     "metadata": {},
     "output_type": "execute_result"
    }
   ],
   "source": [
    "# отберем только сетевые заведения\n",
    "net_df = df.query('chain == 1')\n",
    "\n",
    "# получим топ-15 сетевых заведений \n",
    "top_names = net_df[['name', 'category']].value_counts().head(15)\n",
    "unique_top_restaurants = top_names.index.unique()\n",
    "print('Топ-15 сетевых заведений:')\n",
    "top_names"
   ]
  },
  {
   "cell_type": "code",
   "execution_count": 63,
   "id": "28768951-6784-4b00-83c0-5f6bbd0af3ee",
   "metadata": {},
   "outputs": [
    {
     "data": {
      "image/png": "[encoded data removed]",
      "text/plain": [
       "<Figure size 1008x432 with 1 Axes>"
      ]
     },
     "metadata": {
      "needs_background": "light"
     },
     "output_type": "display_data"
    }
   ],
   "source": [
    "# Строим линейчатую диаграмму\n",
    "plt.figure(figsize=(14, 6))\n",
    "\n",
    "net_df = df.query('chain == 1')\n",
    "top_names = net_df[['name', 'category']].value_counts().head(15)\n",
    "ax = top_names.plot(x='category', \n",
    "                                y='rating', \n",
    "                                kind='barh', \n",
    "                                rot=0)\n",
    "\n",
    "# Настраиваем оформление графика\n",
    "plt.title('Топ-15 популярных заведений в Москве')\n",
    "plt.xlabel('Количество заведений')\n",
    "plt.ylabel('Заведение')\n",
    "\n",
    "# Выводим график\n",
    "plt.show()"
   ]
  },
  {
   "cell_type": "code",
   "execution_count": null,
   "id": "5e067182-20be-4728-b02b-7ec9022035e6",
   "metadata": {},
   "outputs": [
    {
     "data": {
      "text/html": [
       "<div>\n",
       "<style scoped>\n",
       "    .dataframe tbody tr th:only-of-type {\n",
       "        vertical-align: middle;\n",
       "    }\n",
       "\n",
       "    .dataframe tbody tr th {\n",
       "        vertical-align: top;\n",
       "    }\n",
       "\n",
       "    .dataframe thead th {\n",
       "        text-align: right;\n",
       "    }\n",
       "</style>\n",
       "<table border=\"1\" class=\"dataframe\">\n",
       "  <thead>\n",
       "    <tr style=\"text-align: right;\">\n",
       "      <th></th>\n",
       "      <th>name</th>\n",
       "      <th>category</th>\n",
       "      <th>mean_rating</th>\n",
       "    </tr>\n",
       "  </thead>\n",
       "  <tbody>\n",
       "    <tr>\n",
       "      <th>14</th>\n",
       "      <td>яндекс лавка</td>\n",
       "      <td>ресторан</td>\n",
       "      <td>3.872464</td>\n",
       "    </tr>\n",
       "    <tr>\n",
       "      <th>12</th>\n",
       "      <td>чайхана</td>\n",
       "      <td>кафе</td>\n",
       "      <td>3.946154</td>\n",
       "    </tr>\n",
       "    <tr>\n",
       "      <th>0</th>\n",
       "      <td>cofefest</td>\n",
       "      <td>кофейня</td>\n",
       "      <td>3.977419</td>\n",
       "    </tr>\n",
       "    <tr>\n",
       "      <th>2</th>\n",
       "      <td>drive café</td>\n",
       "      <td>кафе</td>\n",
       "      <td>4.025000</td>\n",
       "    </tr>\n",
       "    <tr>\n",
       "      <th>3</th>\n",
       "      <td>one price coffee</td>\n",
       "      <td>кофейня</td>\n",
       "      <td>4.069445</td>\n",
       "    </tr>\n",
       "    <tr>\n",
       "      <th>1</th>\n",
       "      <td>cofix</td>\n",
       "      <td>кофейня</td>\n",
       "      <td>4.075385</td>\n",
       "    </tr>\n",
       "    <tr>\n",
       "      <th>11</th>\n",
       "      <td>теремок</td>\n",
       "      <td>ресторан</td>\n",
       "      <td>4.105556</td>\n",
       "    </tr>\n",
       "    <tr>\n",
       "      <th>4</th>\n",
       "      <td>prime</td>\n",
       "      <td>ресторан</td>\n",
       "      <td>4.114285</td>\n",
       "    </tr>\n",
       "    <tr>\n",
       "      <th>9</th>\n",
       "      <td>кофепорт</td>\n",
       "      <td>кофейня</td>\n",
       "      <td>4.147619</td>\n",
       "    </tr>\n",
       "    <tr>\n",
       "      <th>7</th>\n",
       "      <td>домино'с пицца</td>\n",
       "      <td>пиццерия</td>\n",
       "      <td>4.171429</td>\n",
       "    </tr>\n",
       "    <tr>\n",
       "      <th>13</th>\n",
       "      <td>шоколадница</td>\n",
       "      <td>кофейня</td>\n",
       "      <td>4.178151</td>\n",
       "    </tr>\n",
       "    <tr>\n",
       "      <th>6</th>\n",
       "      <td>додо пицца</td>\n",
       "      <td>пиццерия</td>\n",
       "      <td>4.286487</td>\n",
       "    </tr>\n",
       "    <tr>\n",
       "      <th>10</th>\n",
       "      <td>кулинарная лавка братьев караваевых</td>\n",
       "      <td>кафе</td>\n",
       "      <td>4.394872</td>\n",
       "    </tr>\n",
       "    <tr>\n",
       "      <th>5</th>\n",
       "      <td>буханка</td>\n",
       "      <td>булочная</td>\n",
       "      <td>4.416000</td>\n",
       "    </tr>\n",
       "    <tr>\n",
       "      <th>8</th>\n",
       "      <td>кофемания</td>\n",
       "      <td>кофейня</td>\n",
       "      <td>4.463636</td>\n",
       "    </tr>\n",
       "  </tbody>\n",
       "</table>\n",
       "</div>"
      ],
      "text/plain": [
       "                                   name  category  mean_rating\n",
       "14                         яндекс лавка  ресторан     3.872464\n",
       "12                              чайхана      кафе     3.946154\n",
       "0                              cofefest   кофейня     3.977419\n",
       "2                            drive café      кафе     4.025000\n",
       "3                      one price coffee   кофейня     4.069445\n",
       "1                                 cofix   кофейня     4.075385\n",
       "11                              теремок  ресторан     4.105556\n",
       "4                                 prime  ресторан     4.114285\n",
       "9                              кофепорт   кофейня     4.147619\n",
       "7                        домино'с пицца  пиццерия     4.171429\n",
       "13                          шоколадница   кофейня     4.178151\n",
       "6                            додо пицца  пиццерия     4.286487\n",
       "10  кулинарная лавка братьев караваевых      кафе     4.394872\n",
       "5                               буханка  булочная     4.416000\n",
       "8                             кофемания   кофейня     4.463636"
      ]
     },
     "execution_count": 64,
     "metadata": {},
     "output_type": "execute_result"
    }
   ],
   "source": [
    "# посчитаем средний рейтинг для каждой сети\n",
    "filtered_df = df.merge(top_names.reset_index(), on=['name', 'category'], how='inner')\n",
    "\n",
    "# вычисляем средний рейтинг по каждой паре \"заведение + категория\"\n",
    "result_df = filtered_df.groupby(['name', 'category'])['rating'].mean().reset_index()\n",
    "\n",
    "# переименовываем столбец среднего рейтинга\n",
    "result_df.columns = ['name', 'category', 'mean_rating']\n",
    "result_df = result_df.sort_values(by='mean_rating')\n",
    "result_df"
   ]
  },
  {
   "cell_type": "code",
   "execution_count": 65,
   "id": "5d1b241b",
   "metadata": {},
   "outputs": [
    {
     "name": "stdout",
     "output_type": "stream",
     "text": [
      "Заведения с одинаковым именем му-му относятся к разным категориям:\n",
      "кафе, ресторан, быстрое питание, пиццерия, бар,паб, кофейня, столовая\n"
     ]
    }
   ],
   "source": [
    "# Комментарий ревьюера\n",
    "tmp = df.copy()          # создаем копию текущего датасета\n",
    "name_tmp = 'му-му'       # задаем имя столбца для проверки уникальных категорий\n",
    "print(f'Заведения с одинаковым именем {name_tmp} относятся к разным категориям:\\n\\\n",
    "{\", \".join(tmp[tmp.name == name_tmp].category.unique())}')"
   ]
  },
  {
   "cell_type": "code",
   "execution_count": 66,
   "id": "f310ff48-7875-4fc5-9ff9-6ab83176b9a5",
   "metadata": {},
   "outputs": [
    {
     "data": {
      "image/png": "[encoded data removed]",
      "text/plain": [
       "<Figure size 864x504 with 1 Axes>"
      ]
     },
     "metadata": {
      "needs_background": "light"
     },
     "output_type": "display_data"
    }
   ],
   "source": [
    "# визуализируем информацию\n",
    "fig, ax = plt.subplots(figsize=(12, 7))  # задаём размер графика\n",
    "result_df.plot(y='mean_rating', x='name', kind='barh', legend=None, ax=ax, rot=0)\n",
    "\n",
    "# Подписи и оформление\n",
    "plt.title('Средний рейтинг заведений топ-15 сетей')\n",
    "plt.xlabel('Средний рейтинг')\n",
    "plt.ylabel('Название заведения')\n",
    "plt.show()"
   ]
  },
  {
   "cell_type": "code",
   "execution_count": 67,
   "id": "143c3d4a",
   "metadata": {},
   "outputs": [
    {
     "data": {
      "image/png": "[encoded data removed]",
      "text/plain": [
       "<Figure size 864x504 with 1 Axes>"
      ]
     },
     "metadata": {
      "needs_background": "light"
     },
     "output_type": "display_data"
    }
   ],
   "source": [
    "# визуализируем информацию\n",
    "fig, ax = plt.subplots(figsize=(12, 7))  # задаём размер графика\n",
    "result_df.plot(y='mean_rating', x='name', kind='barh', legend=None, ax=ax, rot=0)\n",
    "\n",
    "# Подписи и оформление\n",
    "plt.title('Средний рейтинг заведений топ-15 сетей')\n",
    "plt.xlabel('Средний рейтинг')\n",
    "plt.ylabel('Название заведения')\n",
    "plt.show()\n",
    "########!!!"
   ]
  },
  {
   "cell_type": "markdown",
   "id": "000ed4b9-a97e-4089-907e-2c9047140d38",
   "metadata": {},
   "source": [
    "Из всех заведений топ-15 сетей наибольший рейтинг у булочной Буханка - 4.396, второе место занимает кафе Кулинарная братьев Караваевых - 4.494, на третьем месте заведение быстрого питания Хинкальная - 4.32."
   ]
  },
  {
   "cell_type": "markdown",
   "id": "77b21e3a",
   "metadata": {},
   "source": [
    "Мы получили топ-15 сетевых заведений Москвы, лидирующее место занимает кофейня Шоколадница со средним рейтингом 4.17. На втором месте по кол-ву заведений пиццерия домино'с пицца со средним рейтингом 4.16. На третьем месте пиццерия Додо пицца с рейтингом 4.28. Последние строки топа занимает кофейня Кофемания с рейтингом 4.46 и кафе drive café с рейтингом 4.02.\n",
    "\n",
    "При этом если смотреть на рейтинг заведений, то лидирующие места занимает кофемания (4.46), буханка (4.41) и кулинарная лавка братьев караваевых (4.39), а на последних строках ресторан яндекс лавка (3.87) и кафе чайхона (3.94). "
   ]
  },
  {
   "cell_type": "markdown",
   "id": "2c457660-9e06-4e6c-8d12-a90d808afd79",
   "metadata": {},
   "source": [
    "___\n",
    "Изучим вариацию среднего чека заведения (столбец `middle_avg_bill`) в зависимости от района Москвы. Проанализируем цены в Центральном административном округе и других. Посмотрим, как удалённость от центра влияет на цены в заведениях? "
   ]
  },
  {
   "cell_type": "code",
   "execution_count": 68,
   "id": "e1194a84-a61c-472c-bb18-598d6bcc89c7",
   "metadata": {},
   "outputs": [],
   "source": [
    "df_avg_bill = df.loc[df['middle_avg_bill'] >= 0]"
   ]
  },
  {
   "cell_type": "code",
   "execution_count": 69,
   "id": "e66f7ea6-b29c-49c0-b26b-cb6b32d93b36",
   "metadata": {},
   "outputs": [
    {
     "data": {
      "text/plain": [
       "count     3149.000000\n",
       "mean       958.053650\n",
       "std       1009.732849\n",
       "min          0.000000\n",
       "25%        375.000000\n",
       "50%        750.000000\n",
       "75%       1250.000000\n",
       "max      35000.000000\n",
       "Name: middle_avg_bill, dtype: float64"
      ]
     },
     "execution_count": 69,
     "metadata": {},
     "output_type": "execute_result"
    }
   ],
   "source": [
    "df_avg_bill['middle_avg_bill'].describe()"
   ]
  },
  {
   "cell_type": "markdown",
   "id": "7183ea9b-61c9-49f6-8ed3-ae579ccd1984",
   "metadata": {},
   "source": [
    "Стандартное отклонение равно 1010, что свидетельствует о высоком уровне разброса данных. Минимальное значение — 0, максимальное — 35000. Очень широкая амплитуда значений также указывает на сильную неоднородность данных. Низкие квартили при большом максимальном значении свидетельствуют о сильном правостороннем сдвиге распределения: основное ядро данных лежит в нижней половине диапазона, а большие значения встречаются редко, но значительно увеличивают среднее значение."
   ]
  },
  {
   "cell_type": "code",
   "execution_count": 70,
   "id": "4b651557-92f9-425c-ac53-83c78def648d",
   "metadata": {},
   "outputs": [
    {
     "data": {
      "image/png": "[encoded data removed]",
      "text/plain": [
       "<Figure size 504x216 with 1 Axes>"
      ]
     },
     "metadata": {
      "needs_background": "light"
     },
     "output_type": "display_data"
    }
   ],
   "source": [
    "# Создаём контейнер графика matplotlib и задаём его размер\n",
    "plt.figure(figsize=(7, 3))\n",
    "\n",
    "# Строим гистограмму с помощью pandas через plot(kind='hist')\n",
    "df_avg_bill['middle_avg_bill'].plot(\n",
    "                kind='hist', # Тип графика - гистограмма\n",
    "                bins=37, # Устанавливаем количество корзин\n",
    "                alpha=0.75,\n",
    "                edgecolor='black',\n",
    "                rot=0, # Градус вращения подписи по оси Х\n",
    ")\n",
    "\n",
    "# Настраиваем оформление графика\n",
    "plt.title('Распределение по среднему чеку')\n",
    "plt.xlabel('Средний чек')\n",
    "plt.ylabel('Частота')\n",
    "# Добавляем сетку графика\n",
    "plt.grid()\n",
    "\n",
    "# Выводим график\n",
    "plt.show()"
   ]
  },
  {
   "cell_type": "code",
   "execution_count": 71,
   "id": "d39abb65-8481-41ce-98fc-cfe1605e6081",
   "metadata": {},
   "outputs": [
    {
     "data": {
      "image/png": "[encoded data removed]",
      "text/plain": [
       "<Figure size 504x144 with 1 Axes>"
      ]
     },
     "metadata": {
      "needs_background": "light"
     },
     "output_type": "display_data"
    }
   ],
   "source": [
    "# Создаём контейнер графика matplotlib и задаём его размер\n",
    "plt.figure(figsize=(7, 2))\n",
    "\n",
    "# Строим диаграмму размаха значений в столбце score\n",
    "df_avg_bill.boxplot(column='middle_avg_bill', vert=False)\n",
    "\n",
    "# Добавляем заголовок и метки оси\n",
    "plt.title('Распределение значений среднего чека')\n",
    "plt.xlabel('Средний чек')\n",
    "\n",
    "# Выводим график\n",
    "plt.show()"
   ]
  },
  {
   "cell_type": "code",
   "execution_count": 72,
   "id": "e1da889e-6efb-4013-a9f4-f4542f181e8a",
   "metadata": {},
   "outputs": [
    {
     "name": "stdout",
     "output_type": "stream",
     "text": [
      "Распределение среднего чека по райнам:\n"
     ]
    },
    {
     "data": {
      "text/html": [
       "<div>\n",
       "<style scoped>\n",
       "    .dataframe tbody tr th:only-of-type {\n",
       "        vertical-align: middle;\n",
       "    }\n",
       "\n",
       "    .dataframe tbody tr th {\n",
       "        vertical-align: top;\n",
       "    }\n",
       "\n",
       "    .dataframe thead th {\n",
       "        text-align: right;\n",
       "    }\n",
       "</style>\n",
       "<table border=\"1\" class=\"dataframe\">\n",
       "  <thead>\n",
       "    <tr style=\"text-align: right;\">\n",
       "      <th></th>\n",
       "      <th>mean</th>\n",
       "      <th>median</th>\n",
       "    </tr>\n",
       "    <tr>\n",
       "      <th>district</th>\n",
       "      <th></th>\n",
       "      <th></th>\n",
       "    </tr>\n",
       "  </thead>\n",
       "  <tbody>\n",
       "    <tr>\n",
       "      <th>Восточный административный округ</th>\n",
       "      <td>820.626953</td>\n",
       "      <td>575.0</td>\n",
       "    </tr>\n",
       "    <tr>\n",
       "      <th>Западный административный округ</th>\n",
       "      <td>1053.225464</td>\n",
       "      <td>1000.0</td>\n",
       "    </tr>\n",
       "    <tr>\n",
       "      <th>Северный административный округ</th>\n",
       "      <td>927.959656</td>\n",
       "      <td>650.0</td>\n",
       "    </tr>\n",
       "    <tr>\n",
       "      <th>Северо-Восточный административный округ</th>\n",
       "      <td>716.611267</td>\n",
       "      <td>500.0</td>\n",
       "    </tr>\n",
       "    <tr>\n",
       "      <th>Северо-Западный административный округ</th>\n",
       "      <td>822.222900</td>\n",
       "      <td>700.0</td>\n",
       "    </tr>\n",
       "    <tr>\n",
       "      <th>Центральный административный округ</th>\n",
       "      <td>1191.057495</td>\n",
       "      <td>1000.0</td>\n",
       "    </tr>\n",
       "    <tr>\n",
       "      <th>Юго-Восточный административный округ</th>\n",
       "      <td>654.097961</td>\n",
       "      <td>450.0</td>\n",
       "    </tr>\n",
       "    <tr>\n",
       "      <th>Юго-Западный административный округ</th>\n",
       "      <td>792.561707</td>\n",
       "      <td>600.0</td>\n",
       "    </tr>\n",
       "    <tr>\n",
       "      <th>Южный административный округ</th>\n",
       "      <td>834.398071</td>\n",
       "      <td>500.0</td>\n",
       "    </tr>\n",
       "  </tbody>\n",
       "</table>\n",
       "</div>"
      ],
      "text/plain": [
       "                                                mean  median\n",
       "district                                                    \n",
       "Восточный административный округ          820.626953   575.0\n",
       "Западный административный округ          1053.225464  1000.0\n",
       "Северный административный округ           927.959656   650.0\n",
       "Северо-Восточный административный округ   716.611267   500.0\n",
       "Северо-Западный административный округ    822.222900   700.0\n",
       "Центральный административный округ       1191.057495  1000.0\n",
       "Юго-Восточный административный округ      654.097961   450.0\n",
       "Юго-Западный административный округ       792.561707   600.0\n",
       "Южный административный округ              834.398071   500.0"
      ]
     },
     "execution_count": 72,
     "metadata": {},
     "output_type": "execute_result"
    }
   ],
   "source": [
    "print('Распределение среднего чека по райнам:')\n",
    "df_avg_bill.groupby('district')['middle_avg_bill'].agg(['mean', 'median'])"
   ]
  },
  {
   "cell_type": "markdown",
   "id": "29ec151d-e5c3-4ee6-83d1-fe6672f61780",
   "metadata": {},
   "source": [
    "В центральном районе средний чек самый высокий и составляет 1191 рубль, в Юго-Восточном округе самый низкий средний чек и составляет он 654 рублей."
   ]
  },
  {
   "cell_type": "code",
   "execution_count": 73,
   "id": "57ac91b0-8c98-4d3e-a1ff-b95e502a1a17",
   "metadata": {},
   "outputs": [
    {
     "data": {
      "image/png": "[encoded data removed]",
      "text/plain": [
       "<Figure size 1008x432 with 1 Axes>"
      ]
     },
     "metadata": {
      "needs_background": "light"
     },
     "output_type": "display_data"
    }
   ],
   "source": [
    "avg_price_by_district = df_avg_bill.groupby('district')['middle_avg_bill'].mean()\n",
    "\n",
    "# Строим столбчатую диаграмму\n",
    "plt.figure(figsize=(14, 6))\n",
    "ax = avg_price_by_district.plot(x='district', \n",
    "                                y='middle_avg_bill', \n",
    "                                kind='barh', \n",
    "                                rot=0)\n",
    "\n",
    "# Настраиваем оформление графика\n",
    "plt.title('Распределение среднего чека по районам')\n",
    "plt.xlabel('Район')\n",
    "plt.ylabel('Средний чек')\n",
    "\n",
    "# Выводим график\n",
    "plt.show()"
   ]
  },
  {
   "cell_type": "markdown",
   "id": "4acd445f",
   "metadata": {},
   "source": [
    "Данные по среднему чеку заведений характеризуются сильным правосторонним перекосом. Большее количество наблюдений расположено в нижней части спектра, тогда как редкие крупные значения существенно поднимают среднее и создают большую дисперсию. Имеется выброс в размере 35 000.\n",
    "\n",
    "В центральном административном округе и западном административном округе медианное значение среднего чека равно 1000 рублей, что является самым большим среди районов. В юго-восточном самые низкие цены, медианный чек равен 450 рублей. Можно сделать вывод, что район влияет на ценообразование в заведениях. "
   ]
  },
  {
   "cell_type": "markdown",
   "id": "8015747f-7eca-4d8f-b3db-36b1e6dfd2c6",
   "metadata": {},
   "source": [
    "### Выводы:\n",
    "- В данных представлено 8 категорий заведений, самые популярные из них - кафе, ресторан и кофейня. Причем популярность данных категорий прослеживается как в разрезе общих данных, так и в разреце центрального административного района.\n",
    "- Центральный административный округ берет на себя 27% всех заведений города, Северо-Западный административный округ является самым не населенным заведениями.\n",
    "- Не сетевые заведения преобладают над сетевыми в соотношении 62% к 38%\n",
    "- Количество посадочных мест имеет сильную неоднородность, присутствуют выбросы, которые могут быть связаны с расположением заведений в торговых центрах, стадионах или других крупных площадках\n",
    "- Оценки заведений близки между собой и находятся в диапазоне от 4 до 4.5, самая высокая оценка у баров, а наименьшая у заведений быстрого питания\n",
    "- Лидирующее место среди московских сетевых заведений занимает Шоколадница \n",
    "- Средний чек в заведениях очень отличается в зависимости от района, наибольший в центральном и западном административном округе"
   ]
  },
  {
   "cell_type": "markdown",
   "id": "48dbc514-3b98-4c29-b968-2b72210ecd04",
   "metadata": {},
   "source": [
    "## Итоговый вывод и рекомендации\n",
    "\n",
    "В ходе исследования проанализировали данные заведений города Москва. Данные включали информацию о названии, расположении, ценовой политике, посадочных местах и др. заведений. Акцент исследования делался на том, чтобы найти взаимосвязи рейтинга заведений, популярности расположений заведений по округам Москвы и распределении заведений по категориям. \n",
    "\n",
    "### Общий обзор проделанной работы:\n",
    "Были проанализированы предоставленные данные по конкурентным заведениям. Были изучены пропуски в данных, все пропуски были заменены на индикаторы. Данные проверили на явные и неявные дубликаты, а также изменили тип данных некоторых столбцов для более корректной работы на этапе предобработки данных. \n",
    "\n",
    "Проанализировали категории, которые представлены в данных, нашли самые популярные срали них, также рассмотрели районы на количество заведений в них  \n",
    "\n",
    "Изучили соотношение сетевых и не сетевых заведений, рассмотрели количество посадочных мест, отметили их неоднородность. \n",
    "\n",
    "Также в рамках анализа мы исследовали рейтинг и попробовали найти взаимосвязь этой переменной с другими. \n",
    "\n",
    "Выявили топ-15 заведений Москва, предоставили информацию со средним рейтингом данных заведений, а также изучили средний чек в зависимости от района города\n",
    "\n",
    "\n",
    "### Главные выводы: \n",
    "- Больше всего заведений представлено в категориях `кафе`, `ресторан` и `кофейня`: 2 377, 2 041 и 1 413 соответственно.\n",
    "- Количество заведений в центральном административном округе преобладает (2 242), наименьшее количество заведений в Северно-Западном административном округе (409)\n",
    "- При этом в центральном административном округе преобладают рестораны, кафе и кофейни, такой же популярностью эти категории пользуются среди всех округов в целом\n",
    "- Не сетевых заведений в Москве больше, чем сетевых (5 199 против 3 204). Из сетевых больше всего по количеству кафе, ресторанов и кофейн. \n",
    "- В среднем количество посадочных мест в заведениях соответствует категориям:\n",
    "    -  Бар, паб - 60\n",
    "    -  Кафе - 40\n",
    "    -  Кофейни - 100\n",
    "    -  Пиццерия - 40\n",
    "    -  Ресторан - 100\n",
    "    -  Столовая - 40\n",
    "    -  Булочные и заведено быстрого питания не имеют посадочных мест\n",
    "\n",
    "При этом имеются аномально-высокие значения\n",
    "- Рейтинг у всех категорий заведений примерно одинаковый и варьируется от 4 до 4.4 \n",
    "- Рейтинг больше всего зависит от ценообразования, другие факты в меньшей степени на это влияют\n",
    "\n",
    "### Рекомендации на основе анализа данных:\n",
    "Исходя из анализа и выводов выше, можно было бы порекомендовать не открывать заведение в уже наполненном конкурентами центральном районе, а присмотреться к районам с более низкой плотностью, но возможно не стоит рассматривать северо-западный административный округ из-за того, что малое количество открытых там заведений может свидетельствовать о низком спросе на них у жителей. Остальные районы можно рассматривать.\n",
    "\n",
    "Можно открыть популярные везде кафе, рестораны или кофейни, если заказчик готов к конкуренции в этом направлении. Или же присмотреться к пекарне, потому как по рейтингу эта категория среди сетевых заведений имеет наивысшую оценку. \n",
    "\n",
    "Можно рассмотреть открытие франшизы у сетевого заведения, чтобы не заниматься с нуля набором рейтинга. "
   ]
  }
 ],
 "metadata": {
  "ExecuteTimeLog": [
   {
    "duration": 1109,
    "start_time": "2025-05-24T11:24:23.809Z"
   },
   {
    "duration": 267,
    "start_time": "2025-05-24T11:24:24.920Z"
   },
   {
    "duration": 13,
    "start_time": "2025-05-24T11:24:25.189Z"
   },
   {
    "duration": 58,
    "start_time": "2025-05-24T11:24:25.204Z"
   },
   {
    "duration": 8,
    "start_time": "2025-05-24T11:24:25.264Z"
   },
   {
    "duration": 18,
    "start_time": "2025-05-24T11:24:25.273Z"
   },
   {
    "duration": 25,
    "start_time": "2025-05-24T11:24:25.292Z"
   },
   {
    "duration": 4,
    "start_time": "2025-05-24T11:24:25.318Z"
   },
   {
    "duration": 15,
    "start_time": "2025-05-24T11:24:25.323Z"
   },
   {
    "duration": 31,
    "start_time": "2025-05-24T11:24:25.339Z"
   },
   {
    "duration": 70,
    "start_time": "2025-05-24T11:24:25.371Z"
   },
   {
    "duration": 4,
    "start_time": "2025-05-24T11:24:25.444Z"
   },
   {
    "duration": 6,
    "start_time": "2025-05-24T11:24:25.449Z"
   },
   {
    "duration": 9,
    "start_time": "2025-05-24T11:24:25.456Z"
   },
   {
    "duration": 35,
    "start_time": "2025-05-24T11:24:25.467Z"
   },
   {
    "duration": 11,
    "start_time": "2025-05-24T11:24:25.504Z"
   },
   {
    "duration": 6,
    "start_time": "2025-05-24T11:24:25.517Z"
   },
   {
    "duration": 22,
    "start_time": "2025-05-24T11:24:25.525Z"
   },
   {
    "duration": 15,
    "start_time": "2025-05-24T11:24:25.549Z"
   },
   {
    "duration": 11,
    "start_time": "2025-05-24T11:24:25.565Z"
   },
   {
    "duration": 8,
    "start_time": "2025-05-24T11:24:25.578Z"
   },
   {
    "duration": 3,
    "start_time": "2025-05-24T11:24:25.587Z"
   },
   {
    "duration": 11,
    "start_time": "2025-05-24T11:24:25.591Z"
   },
   {
    "duration": 14,
    "start_time": "2025-05-24T11:24:25.604Z"
   },
   {
    "duration": 8,
    "start_time": "2025-05-24T11:24:25.619Z"
   },
   {
    "duration": 199,
    "start_time": "2025-05-24T11:24:25.629Z"
   },
   {
    "duration": 8,
    "start_time": "2025-05-24T11:24:25.829Z"
   },
   {
    "duration": 216,
    "start_time": "2025-05-24T11:24:25.838Z"
   },
   {
    "duration": 13,
    "start_time": "2025-05-24T11:24:26.056Z"
   },
   {
    "duration": 179,
    "start_time": "2025-05-24T11:24:26.070Z"
   },
   {
    "duration": 14,
    "start_time": "2025-05-24T11:24:26.251Z"
   },
   {
    "duration": 121,
    "start_time": "2025-05-24T11:24:26.267Z"
   },
   {
    "duration": 11,
    "start_time": "2025-05-24T11:24:26.390Z"
   },
   {
    "duration": 183,
    "start_time": "2025-05-24T11:24:26.403Z"
   },
   {
    "duration": 6,
    "start_time": "2025-05-24T11:24:26.588Z"
   },
   {
    "duration": 181,
    "start_time": "2025-05-24T11:24:26.598Z"
   },
   {
    "duration": 112,
    "start_time": "2025-05-24T11:24:26.781Z"
   },
   {
    "duration": 8,
    "start_time": "2025-05-24T11:24:26.895Z"
   },
   {
    "duration": 63,
    "start_time": "2025-05-24T11:24:26.905Z"
   },
   {
    "duration": 236,
    "start_time": "2025-05-24T11:24:26.970Z"
   },
   {
    "duration": 8,
    "start_time": "2025-05-24T11:24:27.207Z"
   },
   {
    "duration": 171,
    "start_time": "2025-05-24T11:24:27.217Z"
   },
   {
    "duration": 186,
    "start_time": "2025-05-24T11:24:27.390Z"
   },
   {
    "duration": 211,
    "start_time": "2025-05-24T11:24:27.578Z"
   },
   {
    "duration": 11,
    "start_time": "2025-05-24T11:24:27.791Z"
   },
   {
    "duration": 15,
    "start_time": "2025-05-24T11:24:27.804Z"
   },
   {
    "duration": 245,
    "start_time": "2025-05-24T11:24:27.820Z"
   },
   {
    "duration": 7,
    "start_time": "2025-05-24T11:24:28.066Z"
   },
   {
    "duration": 211,
    "start_time": "2025-05-24T11:24:28.074Z"
   },
   {
    "duration": 1194,
    "start_time": "2025-05-24T11:26:34.113Z"
   },
   {
    "duration": 442,
    "start_time": "2025-05-24T11:26:35.308Z"
   },
   {
    "duration": 16,
    "start_time": "2025-05-24T11:26:35.751Z"
   },
   {
    "duration": 37,
    "start_time": "2025-05-24T11:26:35.769Z"
   },
   {
    "duration": 21,
    "start_time": "2025-05-24T11:26:35.808Z"
   },
   {
    "duration": 12,
    "start_time": "2025-05-24T11:26:35.830Z"
   },
   {
    "duration": 22,
    "start_time": "2025-05-24T11:26:35.844Z"
   },
   {
    "duration": 5,
    "start_time": "2025-05-24T11:26:35.867Z"
   },
   {
    "duration": 30,
    "start_time": "2025-05-24T11:26:35.874Z"
   },
   {
    "duration": 26,
    "start_time": "2025-05-24T11:26:35.906Z"
   },
   {
    "duration": 11,
    "start_time": "2025-05-24T11:26:35.934Z"
   },
   {
    "duration": 5,
    "start_time": "2025-05-24T11:26:35.946Z"
   },
   {
    "duration": 52,
    "start_time": "2025-05-24T11:26:35.953Z"
   },
   {
    "duration": 59,
    "start_time": "2025-05-24T11:26:36.008Z"
   },
   {
    "duration": 55,
    "start_time": "2025-05-24T11:26:36.068Z"
   },
   {
    "duration": 11,
    "start_time": "2025-05-24T11:26:36.125Z"
   },
   {
    "duration": 8,
    "start_time": "2025-05-24T11:26:36.137Z"
   },
   {
    "duration": 19,
    "start_time": "2025-05-24T11:26:36.147Z"
   },
   {
    "duration": 33,
    "start_time": "2025-05-24T11:26:36.168Z"
   },
   {
    "duration": 36,
    "start_time": "2025-05-24T11:26:36.203Z"
   },
   {
    "duration": 8,
    "start_time": "2025-05-24T11:26:36.241Z"
   },
   {
    "duration": 3,
    "start_time": "2025-05-24T11:26:36.250Z"
   },
   {
    "duration": 40,
    "start_time": "2025-05-24T11:26:36.254Z"
   },
   {
    "duration": 16,
    "start_time": "2025-05-24T11:26:36.296Z"
   },
   {
    "duration": 10,
    "start_time": "2025-05-24T11:26:36.313Z"
   },
   {
    "duration": 183,
    "start_time": "2025-05-24T11:26:36.325Z"
   },
   {
    "duration": 8,
    "start_time": "2025-05-24T11:26:36.510Z"
   },
   {
    "duration": 217,
    "start_time": "2025-05-24T11:26:36.520Z"
   },
   {
    "duration": 10,
    "start_time": "2025-05-24T11:26:36.738Z"
   },
   {
    "duration": 180,
    "start_time": "2025-05-24T11:26:36.762Z"
   },
   {
    "duration": 19,
    "start_time": "2025-05-24T11:26:36.944Z"
   },
   {
    "duration": 128,
    "start_time": "2025-05-24T11:26:36.965Z"
   },
   {
    "duration": 11,
    "start_time": "2025-05-24T11:26:37.095Z"
   },
   {
    "duration": 188,
    "start_time": "2025-05-24T11:26:37.108Z"
   },
   {
    "duration": 5,
    "start_time": "2025-05-24T11:26:37.298Z"
   },
   {
    "duration": 184,
    "start_time": "2025-05-24T11:26:37.305Z"
   },
   {
    "duration": 112,
    "start_time": "2025-05-24T11:26:37.491Z"
   },
   {
    "duration": 6,
    "start_time": "2025-05-24T11:26:37.605Z"
   },
   {
    "duration": 9,
    "start_time": "2025-05-24T11:26:37.613Z"
   },
   {
    "duration": 241,
    "start_time": "2025-05-24T11:26:37.623Z"
   },
   {
    "duration": 8,
    "start_time": "2025-05-24T11:26:37.868Z"
   },
   {
    "duration": 189,
    "start_time": "2025-05-24T11:26:37.877Z"
   },
   {
    "duration": 192,
    "start_time": "2025-05-24T11:26:38.068Z"
   },
   {
    "duration": 242,
    "start_time": "2025-05-24T11:26:38.262Z"
   },
   {
    "duration": 9,
    "start_time": "2025-05-24T11:26:38.506Z"
   },
   {
    "duration": 15,
    "start_time": "2025-05-24T11:26:38.517Z"
   },
   {
    "duration": 212,
    "start_time": "2025-05-24T11:26:38.534Z"
   },
   {
    "duration": 17,
    "start_time": "2025-05-24T11:26:38.748Z"
   },
   {
    "duration": 207,
    "start_time": "2025-05-24T11:26:38.767Z"
   },
   {
    "duration": 5,
    "start_time": "2025-05-24T12:49:35.488Z"
   },
   {
    "duration": 1187,
    "start_time": "2025-05-24T12:49:43.298Z"
   },
   {
    "duration": 384,
    "start_time": "2025-05-24T12:49:44.487Z"
   },
   {
    "duration": 15,
    "start_time": "2025-05-24T12:49:44.872Z"
   },
   {
    "duration": 12,
    "start_time": "2025-05-24T12:49:44.888Z"
   },
   {
    "duration": 8,
    "start_time": "2025-05-24T12:49:44.902Z"
   },
   {
    "duration": 10,
    "start_time": "2025-05-24T12:49:44.911Z"
   },
   {
    "duration": 44,
    "start_time": "2025-05-24T12:49:44.922Z"
   },
   {
    "duration": 4,
    "start_time": "2025-05-24T12:49:44.968Z"
   },
   {
    "duration": 4,
    "start_time": "2025-05-24T12:49:44.973Z"
   },
   {
    "duration": 16,
    "start_time": "2025-05-24T12:49:44.978Z"
   },
   {
    "duration": 8,
    "start_time": "2025-05-24T12:49:44.995Z"
   },
   {
    "duration": 46,
    "start_time": "2025-05-24T12:49:45.004Z"
   },
   {
    "duration": 36,
    "start_time": "2025-05-24T12:49:45.051Z"
   },
   {
    "duration": 16,
    "start_time": "2025-05-24T12:49:45.090Z"
   },
   {
    "duration": 8,
    "start_time": "2025-05-24T12:49:45.107Z"
   },
   {
    "duration": 55,
    "start_time": "2025-05-24T12:49:45.117Z"
   },
   {
    "duration": 18,
    "start_time": "2025-05-24T12:49:45.173Z"
   },
   {
    "duration": 7,
    "start_time": "2025-05-24T12:49:45.193Z"
   },
   {
    "duration": 28,
    "start_time": "2025-05-24T12:49:45.201Z"
   },
   {
    "duration": 5,
    "start_time": "2025-05-24T12:49:45.231Z"
   },
   {
    "duration": 26,
    "start_time": "2025-05-24T12:49:45.237Z"
   },
   {
    "duration": 10,
    "start_time": "2025-05-24T12:49:45.264Z"
   },
   {
    "duration": 10,
    "start_time": "2025-05-24T12:49:45.276Z"
   },
   {
    "duration": 16,
    "start_time": "2025-05-24T12:49:45.288Z"
   },
   {
    "duration": 34,
    "start_time": "2025-05-24T12:49:45.306Z"
   },
   {
    "duration": 10,
    "start_time": "2025-05-24T12:49:45.341Z"
   },
   {
    "duration": 170,
    "start_time": "2025-05-24T12:49:45.352Z"
   },
   {
    "duration": 8,
    "start_time": "2025-05-24T12:49:45.524Z"
   },
   {
    "duration": 233,
    "start_time": "2025-05-24T12:49:45.534Z"
   },
   {
    "duration": 9,
    "start_time": "2025-05-24T12:49:45.769Z"
   },
   {
    "duration": 178,
    "start_time": "2025-05-24T12:49:45.780Z"
   },
   {
    "duration": 8,
    "start_time": "2025-05-24T12:49:45.961Z"
   },
   {
    "duration": 121,
    "start_time": "2025-05-24T12:49:45.970Z"
   },
   {
    "duration": 9,
    "start_time": "2025-05-24T12:49:46.093Z"
   },
   {
    "duration": 185,
    "start_time": "2025-05-24T12:49:46.104Z"
   },
   {
    "duration": 6,
    "start_time": "2025-05-24T12:49:46.290Z"
   },
   {
    "duration": 188,
    "start_time": "2025-05-24T12:49:46.297Z"
   },
   {
    "duration": 107,
    "start_time": "2025-05-24T12:49:46.487Z"
   },
   {
    "duration": 6,
    "start_time": "2025-05-24T12:49:46.596Z"
   },
   {
    "duration": 10,
    "start_time": "2025-05-24T12:49:46.603Z"
   },
   {
    "duration": 255,
    "start_time": "2025-05-24T12:49:46.616Z"
   },
   {
    "duration": 8,
    "start_time": "2025-05-24T12:49:46.872Z"
   },
   {
    "duration": 149,
    "start_time": "2025-05-24T12:49:46.881Z"
   },
   {
    "duration": 178,
    "start_time": "2025-05-24T12:49:47.032Z"
   },
   {
    "duration": 200,
    "start_time": "2025-05-24T12:49:47.212Z"
   },
   {
    "duration": 11,
    "start_time": "2025-05-24T12:49:47.413Z"
   },
   {
    "duration": 14,
    "start_time": "2025-05-24T12:49:47.425Z"
   },
   {
    "duration": 212,
    "start_time": "2025-05-24T12:49:47.440Z"
   },
   {
    "duration": 14,
    "start_time": "2025-05-24T12:49:47.653Z"
   },
   {
    "duration": 208,
    "start_time": "2025-05-24T12:49:47.669Z"
   },
   {
    "duration": 18,
    "start_time": "2025-05-24T12:54:23.913Z"
   },
   {
    "duration": 1241,
    "start_time": "2025-05-24T12:55:07.105Z"
   },
   {
    "duration": 1185,
    "start_time": "2025-05-24T12:55:08.348Z"
   },
   {
    "duration": 15,
    "start_time": "2025-05-24T12:55:09.535Z"
   },
   {
    "duration": 14,
    "start_time": "2025-05-24T12:55:09.552Z"
   },
   {
    "duration": 22,
    "start_time": "2025-05-24T12:55:09.568Z"
   },
   {
    "duration": 13,
    "start_time": "2025-05-24T12:55:09.592Z"
   },
   {
    "duration": 22,
    "start_time": "2025-05-24T12:55:09.607Z"
   },
   {
    "duration": 5,
    "start_time": "2025-05-24T12:55:09.630Z"
   },
   {
    "duration": 59,
    "start_time": "2025-05-24T12:55:09.637Z"
   },
   {
    "duration": 16,
    "start_time": "2025-05-24T12:55:09.698Z"
   },
   {
    "duration": 9,
    "start_time": "2025-05-24T12:55:09.715Z"
   },
   {
    "duration": 19,
    "start_time": "2025-05-24T12:55:09.726Z"
   },
   {
    "duration": 65,
    "start_time": "2025-05-24T12:55:09.747Z"
   },
   {
    "duration": 4,
    "start_time": "2025-05-24T12:55:09.814Z"
   },
   {
    "duration": 7,
    "start_time": "2025-05-24T12:55:09.820Z"
   },
   {
    "duration": 9,
    "start_time": "2025-05-24T12:55:09.829Z"
   },
   {
    "duration": 35,
    "start_time": "2025-05-24T12:55:09.840Z"
   },
   {
    "duration": 12,
    "start_time": "2025-05-24T12:55:09.877Z"
   },
   {
    "duration": 6,
    "start_time": "2025-05-24T12:55:09.891Z"
   },
   {
    "duration": 22,
    "start_time": "2025-05-24T12:55:09.899Z"
   },
   {
    "duration": 10,
    "start_time": "2025-05-24T12:55:09.923Z"
   },
   {
    "duration": 35,
    "start_time": "2025-05-24T12:55:09.934Z"
   },
   {
    "duration": 9,
    "start_time": "2025-05-24T12:55:09.971Z"
   },
   {
    "duration": 9,
    "start_time": "2025-05-24T12:55:09.982Z"
   },
   {
    "duration": 29,
    "start_time": "2025-05-24T12:55:09.992Z"
   },
   {
    "duration": 69,
    "start_time": "2025-05-24T12:55:10.024Z"
   },
   {
    "duration": 32,
    "start_time": "2025-05-24T12:55:10.095Z"
   },
   {
    "duration": 167,
    "start_time": "2025-05-24T12:55:10.131Z"
   },
   {
    "duration": 9,
    "start_time": "2025-05-24T12:55:10.299Z"
   },
   {
    "duration": 224,
    "start_time": "2025-05-24T12:55:10.310Z"
   },
   {
    "duration": 9,
    "start_time": "2025-05-24T12:55:10.535Z"
   },
   {
    "duration": 178,
    "start_time": "2025-05-24T12:55:10.546Z"
   },
   {
    "duration": 9,
    "start_time": "2025-05-24T12:55:10.726Z"
   },
   {
    "duration": 124,
    "start_time": "2025-05-24T12:55:10.736Z"
   },
   {
    "duration": 10,
    "start_time": "2025-05-24T12:55:10.861Z"
   },
   {
    "duration": 186,
    "start_time": "2025-05-24T12:55:10.873Z"
   },
   {
    "duration": 6,
    "start_time": "2025-05-24T12:55:11.061Z"
   },
   {
    "duration": 183,
    "start_time": "2025-05-24T12:55:11.069Z"
   },
   {
    "duration": 187,
    "start_time": "2025-05-24T12:55:11.254Z"
   },
   {
    "duration": 20,
    "start_time": "2025-05-24T12:55:11.442Z"
   },
   {
    "duration": 9,
    "start_time": "2025-05-24T12:55:11.464Z"
   },
   {
    "duration": 160,
    "start_time": "2025-05-24T12:55:11.475Z"
   },
   {
    "duration": 8,
    "start_time": "2025-05-24T12:55:11.637Z"
   },
   {
    "duration": 169,
    "start_time": "2025-05-24T12:55:11.646Z"
   },
   {
    "duration": 201,
    "start_time": "2025-05-24T12:55:11.817Z"
   },
   {
    "duration": 203,
    "start_time": "2025-05-24T12:55:12.020Z"
   },
   {
    "duration": 41,
    "start_time": "2025-05-24T12:55:12.225Z"
   },
   {
    "duration": 16,
    "start_time": "2025-05-24T12:55:12.268Z"
   },
   {
    "duration": 205,
    "start_time": "2025-05-24T12:55:12.285Z"
   },
   {
    "duration": 7,
    "start_time": "2025-05-24T12:55:12.492Z"
   },
   {
    "duration": 226,
    "start_time": "2025-05-24T12:55:12.501Z"
   },
   {
    "duration": 6,
    "start_time": "2025-05-24T13:00:37.156Z"
   },
   {
    "duration": 4,
    "start_time": "2025-05-24T13:02:34.095Z"
   },
   {
    "duration": 7,
    "start_time": "2025-05-24T14:12:59.831Z"
   },
   {
    "duration": 1593,
    "start_time": "2025-05-24T20:38:26.019Z"
   },
   {
    "duration": 0,
    "start_time": "2025-05-24T20:38:27.614Z"
   },
   {
    "duration": 1379,
    "start_time": "2025-05-25T12:10:05.536Z"
   },
   {
    "duration": 0,
    "start_time": "2025-05-25T12:10:06.919Z"
   },
   {
    "duration": 0,
    "start_time": "2025-05-25T12:10:06.920Z"
   },
   {
    "duration": 0,
    "start_time": "2025-05-25T12:10:06.921Z"
   },
   {
    "duration": 0,
    "start_time": "2025-05-25T12:10:06.922Z"
   },
   {
    "duration": 0,
    "start_time": "2025-05-25T12:10:06.923Z"
   },
   {
    "duration": 0,
    "start_time": "2025-05-25T12:10:06.924Z"
   },
   {
    "duration": 0,
    "start_time": "2025-05-25T12:10:06.925Z"
   },
   {
    "duration": 0,
    "start_time": "2025-05-25T12:10:06.926Z"
   },
   {
    "duration": 0,
    "start_time": "2025-05-25T12:10:06.939Z"
   },
   {
    "duration": 0,
    "start_time": "2025-05-25T12:10:06.940Z"
   },
   {
    "duration": 0,
    "start_time": "2025-05-25T12:10:06.942Z"
   },
   {
    "duration": 0,
    "start_time": "2025-05-25T12:10:06.943Z"
   },
   {
    "duration": 0,
    "start_time": "2025-05-25T12:10:06.945Z"
   },
   {
    "duration": 0,
    "start_time": "2025-05-25T12:10:06.951Z"
   },
   {
    "duration": 0,
    "start_time": "2025-05-25T12:10:06.952Z"
   },
   {
    "duration": 0,
    "start_time": "2025-05-25T12:10:06.954Z"
   },
   {
    "duration": 0,
    "start_time": "2025-05-25T12:10:06.955Z"
   },
   {
    "duration": 0,
    "start_time": "2025-05-25T12:10:06.956Z"
   },
   {
    "duration": 0,
    "start_time": "2025-05-25T12:10:06.962Z"
   },
   {
    "duration": 0,
    "start_time": "2025-05-25T12:10:06.963Z"
   },
   {
    "duration": 0,
    "start_time": "2025-05-25T12:10:06.967Z"
   },
   {
    "duration": 0,
    "start_time": "2025-05-25T12:10:06.968Z"
   },
   {
    "duration": 0,
    "start_time": "2025-05-25T12:10:06.969Z"
   },
   {
    "duration": 0,
    "start_time": "2025-05-25T12:10:06.971Z"
   },
   {
    "duration": 0,
    "start_time": "2025-05-25T12:10:06.972Z"
   },
   {
    "duration": 0,
    "start_time": "2025-05-25T12:10:06.975Z"
   },
   {
    "duration": 0,
    "start_time": "2025-05-25T12:10:06.976Z"
   },
   {
    "duration": 0,
    "start_time": "2025-05-25T12:10:06.977Z"
   },
   {
    "duration": 0,
    "start_time": "2025-05-25T12:10:06.978Z"
   },
   {
    "duration": 0,
    "start_time": "2025-05-25T12:10:06.979Z"
   },
   {
    "duration": 0,
    "start_time": "2025-05-25T12:10:06.980Z"
   },
   {
    "duration": 0,
    "start_time": "2025-05-25T12:10:06.981Z"
   },
   {
    "duration": 0,
    "start_time": "2025-05-25T12:10:06.982Z"
   },
   {
    "duration": 0,
    "start_time": "2025-05-25T12:10:06.983Z"
   },
   {
    "duration": 0,
    "start_time": "2025-05-25T12:10:06.984Z"
   },
   {
    "duration": 0,
    "start_time": "2025-05-25T12:10:06.985Z"
   },
   {
    "duration": 0,
    "start_time": "2025-05-25T12:10:06.986Z"
   },
   {
    "duration": 0,
    "start_time": "2025-05-25T12:10:06.987Z"
   },
   {
    "duration": 0,
    "start_time": "2025-05-25T12:10:06.988Z"
   },
   {
    "duration": 0,
    "start_time": "2025-05-25T12:10:06.989Z"
   },
   {
    "duration": 0,
    "start_time": "2025-05-25T12:10:07.042Z"
   },
   {
    "duration": 0,
    "start_time": "2025-05-25T12:10:07.043Z"
   },
   {
    "duration": 0,
    "start_time": "2025-05-25T12:10:07.044Z"
   },
   {
    "duration": 0,
    "start_time": "2025-05-25T12:10:07.046Z"
   },
   {
    "duration": 0,
    "start_time": "2025-05-25T12:10:07.047Z"
   },
   {
    "duration": 0,
    "start_time": "2025-05-25T12:10:07.049Z"
   },
   {
    "duration": 0,
    "start_time": "2025-05-25T12:10:07.050Z"
   },
   {
    "duration": 0,
    "start_time": "2025-05-25T12:10:07.051Z"
   },
   {
    "duration": 0,
    "start_time": "2025-05-25T12:10:07.053Z"
   },
   {
    "duration": 0,
    "start_time": "2025-05-25T12:10:07.054Z"
   },
   {
    "duration": 0,
    "start_time": "2025-05-25T12:10:07.055Z"
   },
   {
    "duration": 1,
    "start_time": "2025-05-25T12:10:07.056Z"
   },
   {
    "duration": 0,
    "start_time": "2025-05-25T12:10:07.058Z"
   },
   {
    "duration": 0,
    "start_time": "2025-05-25T12:10:07.059Z"
   },
   {
    "duration": 1,
    "start_time": "2025-05-25T12:10:07.060Z"
   },
   {
    "duration": 0,
    "start_time": "2025-05-25T12:10:07.062Z"
   },
   {
    "duration": 0,
    "start_time": "2025-05-25T12:10:07.063Z"
   },
   {
    "duration": 0,
    "start_time": "2025-05-25T12:10:07.064Z"
   },
   {
    "duration": 1,
    "start_time": "2025-05-25T12:10:07.065Z"
   },
   {
    "duration": 0,
    "start_time": "2025-05-25T12:10:07.067Z"
   },
   {
    "duration": 0,
    "start_time": "2025-05-25T12:10:07.068Z"
   },
   {
    "duration": 0,
    "start_time": "2025-05-25T12:10:07.069Z"
   },
   {
    "duration": 0,
    "start_time": "2025-05-25T12:10:07.070Z"
   },
   {
    "duration": 0,
    "start_time": "2025-05-25T12:10:07.071Z"
   },
   {
    "duration": 0,
    "start_time": "2025-05-25T12:10:07.073Z"
   },
   {
    "duration": 0,
    "start_time": "2025-05-25T12:10:07.073Z"
   },
   {
    "duration": 0,
    "start_time": "2025-05-25T12:10:07.074Z"
   },
   {
    "duration": 0,
    "start_time": "2025-05-25T12:10:07.075Z"
   },
   {
    "duration": 0,
    "start_time": "2025-05-25T12:10:07.077Z"
   },
   {
    "duration": 3782,
    "start_time": "2025-05-25T12:11:29.743Z"
   },
   {
    "duration": 3096,
    "start_time": "2025-05-25T12:11:37.910Z"
   },
   {
    "duration": 1318,
    "start_time": "2025-05-25T12:11:41.009Z"
   },
   {
    "duration": 375,
    "start_time": "2025-05-25T12:11:42.329Z"
   },
   {
    "duration": 17,
    "start_time": "2025-05-25T12:11:42.706Z"
   },
   {
    "duration": 26,
    "start_time": "2025-05-25T12:11:42.725Z"
   },
   {
    "duration": 21,
    "start_time": "2025-05-25T12:11:42.753Z"
   },
   {
    "duration": 30,
    "start_time": "2025-05-25T12:11:42.776Z"
   },
   {
    "duration": 28,
    "start_time": "2025-05-25T12:11:42.808Z"
   },
   {
    "duration": 8,
    "start_time": "2025-05-25T12:11:42.837Z"
   },
   {
    "duration": 6,
    "start_time": "2025-05-25T12:11:42.859Z"
   },
   {
    "duration": 17,
    "start_time": "2025-05-25T12:11:42.867Z"
   },
   {
    "duration": 14,
    "start_time": "2025-05-25T12:11:42.887Z"
   },
   {
    "duration": 24,
    "start_time": "2025-05-25T12:11:42.904Z"
   },
   {
    "duration": 25,
    "start_time": "2025-05-25T12:11:42.930Z"
   },
   {
    "duration": 24,
    "start_time": "2025-05-25T12:11:42.957Z"
   },
   {
    "duration": 86,
    "start_time": "2025-05-25T12:11:42.982Z"
   },
   {
    "duration": 6,
    "start_time": "2025-05-25T12:11:43.070Z"
   },
   {
    "duration": 25,
    "start_time": "2025-05-25T12:11:43.077Z"
   },
   {
    "duration": 20,
    "start_time": "2025-05-25T12:11:43.104Z"
   },
   {
    "duration": 51,
    "start_time": "2025-05-25T12:11:43.126Z"
   },
   {
    "duration": 14,
    "start_time": "2025-05-25T12:11:43.179Z"
   },
   {
    "duration": 15,
    "start_time": "2025-05-25T12:11:43.194Z"
   },
   {
    "duration": 23,
    "start_time": "2025-05-25T12:11:43.211Z"
   },
   {
    "duration": 32,
    "start_time": "2025-05-25T12:11:43.236Z"
   },
   {
    "duration": 7,
    "start_time": "2025-05-25T12:11:43.269Z"
   },
   {
    "duration": 20,
    "start_time": "2025-05-25T12:11:43.277Z"
   },
   {
    "duration": 15,
    "start_time": "2025-05-25T12:11:43.299Z"
   },
   {
    "duration": 11,
    "start_time": "2025-05-25T12:11:43.340Z"
   },
   {
    "duration": 21,
    "start_time": "2025-05-25T12:11:43.356Z"
   },
   {
    "duration": 50,
    "start_time": "2025-05-25T12:11:43.379Z"
   },
   {
    "duration": 20,
    "start_time": "2025-05-25T12:11:43.431Z"
   },
   {
    "duration": 6,
    "start_time": "2025-05-25T12:11:43.455Z"
   },
   {
    "duration": 14,
    "start_time": "2025-05-25T12:11:43.463Z"
   },
   {
    "duration": 8,
    "start_time": "2025-05-25T12:11:43.479Z"
   },
   {
    "duration": 230,
    "start_time": "2025-05-25T12:11:43.489Z"
   },
   {
    "duration": 28,
    "start_time": "2025-05-25T12:11:43.721Z"
   },
   {
    "duration": 8,
    "start_time": "2025-05-25T12:11:43.757Z"
   },
   {
    "duration": 241,
    "start_time": "2025-05-25T12:11:43.767Z"
   },
   {
    "duration": 10,
    "start_time": "2025-05-25T12:11:44.010Z"
   },
   {
    "duration": 34,
    "start_time": "2025-05-25T12:11:44.022Z"
   },
   {
    "duration": 201,
    "start_time": "2025-05-25T12:11:44.058Z"
   },
   {
    "duration": 9,
    "start_time": "2025-05-25T12:11:44.260Z"
   },
   {
    "duration": 51,
    "start_time": "2025-05-25T12:11:44.270Z"
   },
   {
    "duration": 142,
    "start_time": "2025-05-25T12:11:44.322Z"
   },
   {
    "duration": 13,
    "start_time": "2025-05-25T12:11:44.466Z"
   },
   {
    "duration": 11,
    "start_time": "2025-05-25T12:11:44.481Z"
   },
   {
    "duration": 222,
    "start_time": "2025-05-25T12:11:44.494Z"
   },
   {
    "duration": 6,
    "start_time": "2025-05-25T12:11:44.718Z"
   },
   {
    "duration": 23,
    "start_time": "2025-05-25T12:11:44.726Z"
   },
   {
    "duration": 218,
    "start_time": "2025-05-25T12:11:44.753Z"
   },
   {
    "duration": 214,
    "start_time": "2025-05-25T12:11:44.973Z"
   },
   {
    "duration": 9,
    "start_time": "2025-05-25T12:11:45.189Z"
   },
   {
    "duration": 12,
    "start_time": "2025-05-25T12:11:45.199Z"
   },
   {
    "duration": 217,
    "start_time": "2025-05-25T12:11:45.213Z"
   },
   {
    "duration": 24,
    "start_time": "2025-05-25T12:11:45.432Z"
   },
   {
    "duration": 35,
    "start_time": "2025-05-25T12:11:45.458Z"
   },
   {
    "duration": 191,
    "start_time": "2025-05-25T12:11:45.495Z"
   },
   {
    "duration": 24,
    "start_time": "2025-05-25T12:11:45.688Z"
   },
   {
    "duration": 251,
    "start_time": "2025-05-25T12:11:45.714Z"
   },
   {
    "duration": 240,
    "start_time": "2025-05-25T12:11:45.966Z"
   },
   {
    "duration": 250,
    "start_time": "2025-05-25T12:11:46.208Z"
   },
   {
    "duration": 138,
    "start_time": "2025-05-25T12:11:46.460Z"
   },
   {
    "duration": 0,
    "start_time": "2025-05-25T12:11:46.600Z"
   },
   {
    "duration": 0,
    "start_time": "2025-05-25T12:11:46.602Z"
   },
   {
    "duration": 0,
    "start_time": "2025-05-25T12:11:46.603Z"
   },
   {
    "duration": 0,
    "start_time": "2025-05-25T12:11:46.605Z"
   },
   {
    "duration": 0,
    "start_time": "2025-05-25T12:11:46.606Z"
   },
   {
    "duration": 0,
    "start_time": "2025-05-25T12:11:46.608Z"
   },
   {
    "duration": 0,
    "start_time": "2025-05-25T12:11:46.609Z"
   },
   {
    "duration": 0,
    "start_time": "2025-05-25T12:11:46.611Z"
   },
   {
    "duration": 0,
    "start_time": "2025-05-25T12:11:46.613Z"
   },
   {
    "duration": 3429,
    "start_time": "2025-05-25T12:29:35.239Z"
   },
   {
    "duration": 1319,
    "start_time": "2025-05-25T12:29:38.670Z"
   },
   {
    "duration": 173,
    "start_time": "2025-05-25T12:29:39.990Z"
   },
   {
    "duration": 17,
    "start_time": "2025-05-25T12:29:40.167Z"
   },
   {
    "duration": 16,
    "start_time": "2025-05-25T12:29:40.186Z"
   },
   {
    "duration": 13,
    "start_time": "2025-05-25T12:29:40.203Z"
   },
   {
    "duration": 42,
    "start_time": "2025-05-25T12:29:40.218Z"
   },
   {
    "duration": 28,
    "start_time": "2025-05-25T12:29:40.262Z"
   },
   {
    "duration": 6,
    "start_time": "2025-05-25T12:29:40.292Z"
   },
   {
    "duration": 52,
    "start_time": "2025-05-25T12:29:40.302Z"
   },
   {
    "duration": 33,
    "start_time": "2025-05-25T12:29:40.357Z"
   },
   {
    "duration": 6,
    "start_time": "2025-05-25T12:29:40.391Z"
   },
   {
    "duration": 32,
    "start_time": "2025-05-25T12:29:40.398Z"
   },
   {
    "duration": 14,
    "start_time": "2025-05-25T12:29:40.431Z"
   },
   {
    "duration": 25,
    "start_time": "2025-05-25T12:29:40.447Z"
   },
   {
    "duration": 77,
    "start_time": "2025-05-25T12:29:40.473Z"
   },
   {
    "duration": 8,
    "start_time": "2025-05-25T12:29:40.558Z"
   },
   {
    "duration": 13,
    "start_time": "2025-05-25T12:29:40.568Z"
   },
   {
    "duration": 6,
    "start_time": "2025-05-25T12:29:40.583Z"
   },
   {
    "duration": 33,
    "start_time": "2025-05-25T12:29:40.591Z"
   },
   {
    "duration": 21,
    "start_time": "2025-05-25T12:29:40.626Z"
   },
   {
    "duration": 13,
    "start_time": "2025-05-25T12:29:40.648Z"
   },
   {
    "duration": 12,
    "start_time": "2025-05-25T12:29:40.663Z"
   },
   {
    "duration": 21,
    "start_time": "2025-05-25T12:29:40.677Z"
   },
   {
    "duration": 5,
    "start_time": "2025-05-25T12:29:40.700Z"
   },
   {
    "duration": 45,
    "start_time": "2025-05-25T12:29:40.707Z"
   },
   {
    "duration": 17,
    "start_time": "2025-05-25T12:29:40.754Z"
   },
   {
    "duration": 3,
    "start_time": "2025-05-25T12:29:40.775Z"
   },
   {
    "duration": 9,
    "start_time": "2025-05-25T12:29:40.779Z"
   },
   {
    "duration": 20,
    "start_time": "2025-05-25T12:29:40.789Z"
   },
   {
    "duration": 7,
    "start_time": "2025-05-25T12:29:40.811Z"
   },
   {
    "duration": 31,
    "start_time": "2025-05-25T12:29:40.819Z"
   },
   {
    "duration": 13,
    "start_time": "2025-05-25T12:29:40.854Z"
   },
   {
    "duration": 8,
    "start_time": "2025-05-25T12:29:40.869Z"
   },
   {
    "duration": 264,
    "start_time": "2025-05-25T12:29:40.879Z"
   },
   {
    "duration": 16,
    "start_time": "2025-05-25T12:29:41.146Z"
   },
   {
    "duration": 9,
    "start_time": "2025-05-25T12:29:41.167Z"
   },
   {
    "duration": 296,
    "start_time": "2025-05-25T12:29:41.178Z"
   },
   {
    "duration": 10,
    "start_time": "2025-05-25T12:29:41.476Z"
   },
   {
    "duration": 14,
    "start_time": "2025-05-25T12:29:41.487Z"
   },
   {
    "duration": 237,
    "start_time": "2025-05-25T12:29:41.503Z"
   },
   {
    "duration": 24,
    "start_time": "2025-05-25T12:29:41.747Z"
   },
   {
    "duration": 12,
    "start_time": "2025-05-25T12:29:41.773Z"
   },
   {
    "duration": 163,
    "start_time": "2025-05-25T12:29:41.787Z"
   },
   {
    "duration": 24,
    "start_time": "2025-05-25T12:29:41.953Z"
   },
   {
    "duration": 14,
    "start_time": "2025-05-25T12:29:41.979Z"
   },
   {
    "duration": 239,
    "start_time": "2025-05-25T12:29:41.994Z"
   },
   {
    "duration": 26,
    "start_time": "2025-05-25T12:29:42.239Z"
   },
   {
    "duration": 14,
    "start_time": "2025-05-25T12:29:42.267Z"
   },
   {
    "duration": 222,
    "start_time": "2025-05-25T12:29:42.282Z"
   },
   {
    "duration": 280,
    "start_time": "2025-05-25T12:29:42.506Z"
   },
   {
    "duration": 8,
    "start_time": "2025-05-25T12:29:42.788Z"
   },
   {
    "duration": 19,
    "start_time": "2025-05-25T12:29:42.798Z"
   },
   {
    "duration": 201,
    "start_time": "2025-05-25T12:29:42.819Z"
   },
   {
    "duration": 9,
    "start_time": "2025-05-25T12:29:43.022Z"
   },
   {
    "duration": 53,
    "start_time": "2025-05-25T12:29:43.032Z"
   },
   {
    "duration": 360,
    "start_time": "2025-05-25T12:29:43.086Z"
   },
   {
    "duration": 39,
    "start_time": "2025-05-25T12:29:43.450Z"
   },
   {
    "duration": 327,
    "start_time": "2025-05-25T12:29:43.491Z"
   },
   {
    "duration": 277,
    "start_time": "2025-05-25T12:29:43.821Z"
   },
   {
    "duration": 236,
    "start_time": "2025-05-25T12:29:44.099Z"
   },
   {
    "duration": 133,
    "start_time": "2025-05-25T12:29:44.337Z"
   },
   {
    "duration": 0,
    "start_time": "2025-05-25T12:29:44.472Z"
   },
   {
    "duration": 0,
    "start_time": "2025-05-25T12:29:44.473Z"
   },
   {
    "duration": 0,
    "start_time": "2025-05-25T12:29:44.474Z"
   },
   {
    "duration": 0,
    "start_time": "2025-05-25T12:29:44.475Z"
   },
   {
    "duration": 0,
    "start_time": "2025-05-25T12:29:44.476Z"
   },
   {
    "duration": 0,
    "start_time": "2025-05-25T12:29:44.478Z"
   },
   {
    "duration": 0,
    "start_time": "2025-05-25T12:29:44.479Z"
   },
   {
    "duration": 0,
    "start_time": "2025-05-25T12:29:44.480Z"
   },
   {
    "duration": 0,
    "start_time": "2025-05-25T12:29:44.481Z"
   },
   {
    "duration": 3241,
    "start_time": "2025-05-25T15:32:55.257Z"
   },
   {
    "duration": 1613,
    "start_time": "2025-05-25T15:32:58.501Z"
   },
   {
    "duration": 240,
    "start_time": "2025-05-25T15:33:00.116Z"
   },
   {
    "duration": 16,
    "start_time": "2025-05-25T15:33:02.956Z"
   },
   {
    "duration": 15,
    "start_time": "2025-05-25T15:33:03.835Z"
   },
   {
    "duration": 9,
    "start_time": "2025-05-25T15:33:05.142Z"
   },
   {
    "duration": 11,
    "start_time": "2025-05-25T15:33:05.990Z"
   },
   {
    "duration": 25,
    "start_time": "2025-05-25T15:33:08.344Z"
   },
   {
    "duration": 5,
    "start_time": "2025-05-25T15:33:12.128Z"
   },
   {
    "duration": 6,
    "start_time": "2025-05-25T15:33:13.094Z"
   },
   {
    "duration": 5,
    "start_time": "2025-05-25T15:33:14.115Z"
   },
   {
    "duration": 5,
    "start_time": "2025-05-25T15:33:14.484Z"
   },
   {
    "duration": 17,
    "start_time": "2025-05-25T15:33:16.378Z"
   },
   {
    "duration": 10,
    "start_time": "2025-05-25T15:33:17.670Z"
   },
   {
    "duration": 13,
    "start_time": "2025-05-25T15:33:18.114Z"
   },
   {
    "duration": 71,
    "start_time": "2025-05-25T15:33:18.900Z"
   },
   {
    "duration": 6,
    "start_time": "2025-05-25T15:33:22.923Z"
   },
   {
    "duration": 4,
    "start_time": "2025-05-25T15:33:23.915Z"
   },
   {
    "duration": 4,
    "start_time": "2025-05-25T15:33:24.746Z"
   },
   {
    "duration": 31,
    "start_time": "2025-05-25T15:33:25.790Z"
   },
   {
    "duration": 12,
    "start_time": "2025-05-25T15:33:27.012Z"
   },
   {
    "duration": 10,
    "start_time": "2025-05-25T15:33:27.765Z"
   },
   {
    "duration": 7,
    "start_time": "2025-05-25T15:33:28.983Z"
   },
   {
    "duration": 23,
    "start_time": "2025-05-25T15:33:29.342Z"
   },
   {
    "duration": 6,
    "start_time": "2025-05-25T15:33:30.539Z"
   },
   {
    "duration": 12,
    "start_time": "2025-05-25T15:33:31.340Z"
   },
   {
    "duration": 10,
    "start_time": "2025-05-25T15:33:32.106Z"
   },
   {
    "duration": 2,
    "start_time": "2025-05-25T15:33:33.525Z"
   },
   {
    "duration": 6,
    "start_time": "2025-05-25T15:33:33.890Z"
   },
   {
    "duration": 15,
    "start_time": "2025-05-25T15:33:34.224Z"
   },
   {
    "duration": 5,
    "start_time": "2025-05-25T15:33:35.195Z"
   },
   {
    "duration": 5,
    "start_time": "2025-05-25T15:33:35.608Z"
   },
   {
    "duration": 9,
    "start_time": "2025-05-25T15:33:37.559Z"
   },
   {
    "duration": 8,
    "start_time": "2025-05-25T15:33:39.206Z"
   },
   {
    "duration": 180,
    "start_time": "2025-05-25T15:33:40.152Z"
   },
   {
    "duration": 9,
    "start_time": "2025-05-25T15:33:43.767Z"
   },
   {
    "duration": 8,
    "start_time": "2025-05-25T15:33:45.546Z"
   },
   {
    "duration": 212,
    "start_time": "2025-05-25T15:33:46.290Z"
   },
   {
    "duration": 10,
    "start_time": "2025-05-25T15:33:48.568Z"
   },
   {
    "duration": 12,
    "start_time": "2025-05-25T15:33:49.700Z"
   },
   {
    "duration": 169,
    "start_time": "2025-05-25T15:33:50.725Z"
   },
   {
    "duration": 7,
    "start_time": "2025-05-25T15:33:56.214Z"
   },
   {
    "duration": 7,
    "start_time": "2025-05-25T15:33:56.618Z"
   },
   {
    "duration": 120,
    "start_time": "2025-05-25T15:33:56.991Z"
   },
   {
    "duration": 11,
    "start_time": "2025-05-25T15:33:59.373Z"
   },
   {
    "duration": 10,
    "start_time": "2025-05-25T15:33:59.798Z"
   },
   {
    "duration": 171,
    "start_time": "2025-05-25T15:34:01.009Z"
   },
   {
    "duration": 6,
    "start_time": "2025-05-25T15:34:22.378Z"
   },
   {
    "duration": 10,
    "start_time": "2025-05-25T15:34:24.104Z"
   },
   {
    "duration": 178,
    "start_time": "2025-05-25T15:34:24.865Z"
   },
   {
    "duration": 185,
    "start_time": "2025-05-25T15:34:25.780Z"
   },
   {
    "duration": 7,
    "start_time": "2025-05-25T15:34:26.957Z"
   },
   {
    "duration": 10,
    "start_time": "2025-05-25T15:34:28.106Z"
   },
   {
    "duration": 183,
    "start_time": "2025-05-25T15:34:28.991Z"
   },
   {
    "duration": 8,
    "start_time": "2025-05-25T15:34:33.747Z"
   },
   {
    "duration": 33,
    "start_time": "2025-05-25T15:34:34.919Z"
   },
   {
    "duration": 153,
    "start_time": "2025-05-25T15:34:37.112Z"
   },
   {
    "duration": 23,
    "start_time": "2025-05-25T15:34:39.747Z"
   },
   {
    "duration": 199,
    "start_time": "2025-05-25T15:34:40.421Z"
   },
   {
    "duration": 282,
    "start_time": "2025-05-25T15:34:43.638Z"
   },
   {
    "duration": 213,
    "start_time": "2025-05-25T15:34:45.025Z"
   },
   {
    "duration": 121,
    "start_time": "2025-05-25T15:34:52.729Z"
   },
   {
    "duration": 16,
    "start_time": "2025-05-25T15:34:58.943Z"
   },
   {
    "duration": 12,
    "start_time": "2025-05-25T15:35:09.510Z"
   },
   {
    "duration": 12,
    "start_time": "2025-05-25T15:35:19.712Z"
   },
   {
    "duration": 14,
    "start_time": "2025-05-25T15:35:31.258Z"
   },
   {
    "duration": 12,
    "start_time": "2025-05-25T15:35:42.995Z"
   },
   {
    "duration": 244,
    "start_time": "2025-05-25T15:35:53.655Z"
   },
   {
    "duration": 22,
    "start_time": "2025-05-25T15:36:01.002Z"
   },
   {
    "duration": 8,
    "start_time": "2025-05-25T15:36:02.219Z"
   },
   {
    "duration": 213,
    "start_time": "2025-05-25T15:36:03.432Z"
   },
   {
    "duration": 5,
    "start_time": "2025-05-25T15:36:06.257Z"
   },
   {
    "duration": 8,
    "start_time": "2025-05-25T15:36:06.726Z"
   },
   {
    "duration": 192,
    "start_time": "2025-05-25T15:36:07.794Z"
   },
   {
    "duration": 116,
    "start_time": "2025-05-25T15:36:08.186Z"
   },
   {
    "duration": 11,
    "start_time": "2025-05-25T15:36:09.637Z"
   },
   {
    "duration": 279,
    "start_time": "2025-05-25T15:36:10.982Z"
   },
   {
    "duration": 48,
    "start_time": "2025-05-25T17:54:00.867Z"
   },
   {
    "duration": 8,
    "start_time": "2025-05-25T17:54:06.355Z"
   },
   {
    "duration": 6,
    "start_time": "2025-05-25T17:54:11.686Z"
   },
   {
    "duration": 2742,
    "start_time": "2025-05-25T17:54:46.436Z"
   },
   {
    "duration": 9,
    "start_time": "2025-05-25T17:54:49.180Z"
   },
   {
    "duration": 0,
    "start_time": "2025-05-25T17:54:49.191Z"
   },
   {
    "duration": 0,
    "start_time": "2025-05-25T17:54:49.193Z"
   },
   {
    "duration": 2695,
    "start_time": "2025-05-25T17:54:54.697Z"
   },
   {
    "duration": 1438,
    "start_time": "2025-05-25T17:54:57.395Z"
   },
   {
    "duration": 281,
    "start_time": "2025-05-25T17:54:59.488Z"
   },
   {
    "duration": 16,
    "start_time": "2025-05-25T17:55:03.262Z"
   },
   {
    "duration": 14,
    "start_time": "2025-05-25T17:55:04.520Z"
   },
   {
    "duration": 10,
    "start_time": "2025-05-25T17:55:05.736Z"
   },
   {
    "duration": 16,
    "start_time": "2025-05-25T17:55:06.628Z"
   },
   {
    "duration": 25,
    "start_time": "2025-05-25T17:55:09.451Z"
   },
   {
    "duration": 5,
    "start_time": "2025-05-25T17:55:12.152Z"
   },
   {
    "duration": 6,
    "start_time": "2025-05-25T17:55:13.077Z"
   },
   {
    "duration": 5,
    "start_time": "2025-05-25T17:55:13.883Z"
   },
   {
    "duration": 6,
    "start_time": "2025-05-25T17:55:14.267Z"
   },
   {
    "duration": 18,
    "start_time": "2025-05-25T17:55:15.594Z"
   },
   {
    "duration": 11,
    "start_time": "2025-05-25T17:55:16.093Z"
   },
   {
    "duration": 13,
    "start_time": "2025-05-25T17:55:16.320Z"
   },
   {
    "duration": 65,
    "start_time": "2025-05-25T17:55:16.858Z"
   },
   {
    "duration": 6,
    "start_time": "2025-05-25T17:55:17.683Z"
   },
   {
    "duration": 5,
    "start_time": "2025-05-25T17:55:18.205Z"
   },
   {
    "duration": 4,
    "start_time": "2025-05-25T17:55:18.671Z"
   },
   {
    "duration": 27,
    "start_time": "2025-05-25T17:55:19.393Z"
   },
   {
    "duration": 12,
    "start_time": "2025-05-25T17:55:20.101Z"
   },
   {
    "duration": 7,
    "start_time": "2025-05-25T17:55:21.286Z"
   },
   {
    "duration": 6,
    "start_time": "2025-05-25T17:55:22.846Z"
   },
   {
    "duration": 20,
    "start_time": "2025-05-25T17:55:23.156Z"
   },
   {
    "duration": 6,
    "start_time": "2025-05-25T17:55:24.298Z"
   },
   {
    "duration": 12,
    "start_time": "2025-05-25T17:55:25.005Z"
   },
   {
    "duration": 10,
    "start_time": "2025-05-25T17:55:25.511Z"
   },
   {
    "duration": 3,
    "start_time": "2025-05-25T17:55:26.630Z"
   },
   {
    "duration": 5,
    "start_time": "2025-05-25T17:55:27.063Z"
   },
   {
    "duration": 15,
    "start_time": "2025-05-25T17:55:27.459Z"
   },
   {
    "duration": 6,
    "start_time": "2025-05-25T17:55:28.506Z"
   },
   {
    "duration": 5,
    "start_time": "2025-05-25T17:55:29.152Z"
   },
   {
    "duration": 9,
    "start_time": "2025-05-25T17:55:30.967Z"
   },
   {
    "duration": 8,
    "start_time": "2025-05-25T17:55:32.461Z"
   },
   {
    "duration": 185,
    "start_time": "2025-05-25T17:55:33.501Z"
   },
   {
    "duration": 11,
    "start_time": "2025-05-25T17:55:35.871Z"
   },
   {
    "duration": 8,
    "start_time": "2025-05-25T17:55:36.595Z"
   },
   {
    "duration": 221,
    "start_time": "2025-05-25T17:55:37.062Z"
   },
   {
    "duration": 11,
    "start_time": "2025-05-25T17:55:39.054Z"
   },
   {
    "duration": 10,
    "start_time": "2025-05-25T17:55:39.476Z"
   },
   {
    "duration": 176,
    "start_time": "2025-05-25T17:55:39.974Z"
   },
   {
    "duration": 8,
    "start_time": "2025-05-25T17:55:41.459Z"
   },
   {
    "duration": 7,
    "start_time": "2025-05-25T17:55:41.707Z"
   },
   {
    "duration": 155,
    "start_time": "2025-05-25T17:55:41.938Z"
   },
   {
    "duration": 11,
    "start_time": "2025-05-25T17:55:43.876Z"
   },
   {
    "duration": 14,
    "start_time": "2025-05-25T17:55:44.287Z"
   },
   {
    "duration": 176,
    "start_time": "2025-05-25T17:55:45.121Z"
   },
   {
    "duration": 13,
    "start_time": "2025-05-25T17:55:53.156Z"
   },
   {
    "duration": 14,
    "start_time": "2025-05-25T17:56:08.185Z"
   },
   {
    "duration": 1252,
    "start_time": "2025-05-25T17:56:28.026Z"
   },
   {
    "duration": 248,
    "start_time": "2025-05-25T17:56:35.297Z"
   },
   {
    "duration": 14,
    "start_time": "2025-05-25T17:56:48.093Z"
   },
   {
    "duration": 177,
    "start_time": "2025-05-25T17:56:52.860Z"
   },
   {
    "duration": 13,
    "start_time": "2025-05-25T17:56:59.249Z"
   },
   {
    "duration": 175,
    "start_time": "2025-05-25T17:57:12.521Z"
   },
   {
    "duration": 2685,
    "start_time": "2025-05-25T23:03:20.873Z"
   },
   {
    "duration": 1263,
    "start_time": "2025-05-25T23:03:23.560Z"
   },
   {
    "duration": 197,
    "start_time": "2025-05-25T23:03:24.825Z"
   },
   {
    "duration": 15,
    "start_time": "2025-05-25T23:03:25.024Z"
   },
   {
    "duration": 33,
    "start_time": "2025-05-25T23:03:25.041Z"
   },
   {
    "duration": 19,
    "start_time": "2025-05-25T23:03:25.076Z"
   },
   {
    "duration": 15,
    "start_time": "2025-05-25T23:03:25.097Z"
   },
   {
    "duration": 21,
    "start_time": "2025-05-25T23:03:25.114Z"
   },
   {
    "duration": 11,
    "start_time": "2025-05-25T23:03:25.137Z"
   },
   {
    "duration": 12,
    "start_time": "2025-05-25T23:03:25.149Z"
   },
   {
    "duration": 9,
    "start_time": "2025-05-25T23:03:25.163Z"
   },
   {
    "duration": 8,
    "start_time": "2025-05-25T23:03:25.173Z"
   },
   {
    "duration": 15,
    "start_time": "2025-05-25T23:03:25.183Z"
   },
   {
    "duration": 22,
    "start_time": "2025-05-25T23:03:25.201Z"
   },
   {
    "duration": 18,
    "start_time": "2025-05-25T23:03:25.225Z"
   },
   {
    "duration": 63,
    "start_time": "2025-05-25T23:03:25.245Z"
   },
   {
    "duration": 6,
    "start_time": "2025-05-25T23:03:25.310Z"
   },
   {
    "duration": 21,
    "start_time": "2025-05-25T23:03:25.318Z"
   },
   {
    "duration": 11,
    "start_time": "2025-05-25T23:03:25.341Z"
   },
   {
    "duration": 28,
    "start_time": "2025-05-25T23:03:25.354Z"
   },
   {
    "duration": 12,
    "start_time": "2025-05-25T23:03:25.384Z"
   },
   {
    "duration": 10,
    "start_time": "2025-05-25T23:03:25.397Z"
   },
   {
    "duration": 30,
    "start_time": "2025-05-25T23:03:25.409Z"
   },
   {
    "duration": 22,
    "start_time": "2025-05-25T23:03:25.441Z"
   },
   {
    "duration": 5,
    "start_time": "2025-05-25T23:03:25.465Z"
   },
   {
    "duration": 35,
    "start_time": "2025-05-25T23:03:25.472Z"
   },
   {
    "duration": 9,
    "start_time": "2025-05-25T23:03:25.509Z"
   },
   {
    "duration": 6,
    "start_time": "2025-05-25T23:03:25.519Z"
   },
   {
    "duration": 10,
    "start_time": "2025-05-25T23:03:25.526Z"
   },
   {
    "duration": 14,
    "start_time": "2025-05-25T23:03:25.538Z"
   },
   {
    "duration": 7,
    "start_time": "2025-05-25T23:03:25.554Z"
   },
   {
    "duration": 10,
    "start_time": "2025-05-25T23:03:25.563Z"
   },
   {
    "duration": 22,
    "start_time": "2025-05-25T23:03:25.574Z"
   },
   {
    "duration": 8,
    "start_time": "2025-05-25T23:03:25.598Z"
   },
   {
    "duration": 205,
    "start_time": "2025-05-25T23:03:25.607Z"
   },
   {
    "duration": 9,
    "start_time": "2025-05-25T23:03:25.814Z"
   },
   {
    "duration": 21,
    "start_time": "2025-05-25T23:03:25.824Z"
   },
   {
    "duration": 229,
    "start_time": "2025-05-25T23:03:25.846Z"
   },
   {
    "duration": 10,
    "start_time": "2025-05-25T23:03:26.078Z"
   },
   {
    "duration": 10,
    "start_time": "2025-05-25T23:03:26.090Z"
   },
   {
    "duration": 193,
    "start_time": "2025-05-25T23:03:26.105Z"
   },
   {
    "duration": 11,
    "start_time": "2025-05-25T23:03:26.300Z"
   },
   {
    "duration": 28,
    "start_time": "2025-05-25T23:03:26.313Z"
   },
   {
    "duration": 132,
    "start_time": "2025-05-25T23:03:26.343Z"
   },
   {
    "duration": 11,
    "start_time": "2025-05-25T23:03:26.476Z"
   },
   {
    "duration": 15,
    "start_time": "2025-05-25T23:03:26.489Z"
   },
   {
    "duration": 216,
    "start_time": "2025-05-25T23:03:26.506Z"
   },
   {
    "duration": 6,
    "start_time": "2025-05-25T23:03:26.724Z"
   },
   {
    "duration": 10,
    "start_time": "2025-05-25T23:03:26.739Z"
   },
   {
    "duration": 192,
    "start_time": "2025-05-25T23:03:26.751Z"
   },
   {
    "duration": 209,
    "start_time": "2025-05-25T23:03:26.945Z"
   },
   {
    "duration": 7,
    "start_time": "2025-05-25T23:03:27.156Z"
   },
   {
    "duration": 11,
    "start_time": "2025-05-25T23:03:27.165Z"
   },
   {
    "duration": 182,
    "start_time": "2025-05-25T23:03:27.178Z"
   },
   {
    "duration": 9,
    "start_time": "2025-05-25T23:03:27.361Z"
   },
   {
    "duration": 33,
    "start_time": "2025-05-25T23:03:27.371Z"
   },
   {
    "duration": 169,
    "start_time": "2025-05-25T23:03:27.405Z"
   },
   {
    "duration": 34,
    "start_time": "2025-05-25T23:03:27.575Z"
   },
   {
    "duration": 217,
    "start_time": "2025-05-25T23:03:27.611Z"
   },
   {
    "duration": 238,
    "start_time": "2025-05-25T23:03:27.830Z"
   },
   {
    "duration": 227,
    "start_time": "2025-05-25T23:03:28.070Z"
   },
   {
    "duration": 251,
    "start_time": "2025-05-25T23:03:28.299Z"
   },
   {
    "duration": 20,
    "start_time": "2025-05-25T23:03:28.552Z"
   },
   {
    "duration": 8,
    "start_time": "2025-05-25T23:03:28.574Z"
   },
   {
    "duration": 232,
    "start_time": "2025-05-25T23:03:28.584Z"
   },
   {
    "duration": 5,
    "start_time": "2025-05-25T23:03:28.818Z"
   },
   {
    "duration": 61,
    "start_time": "2025-05-25T23:03:28.824Z"
   },
   {
    "duration": 239,
    "start_time": "2025-05-25T23:03:28.886Z"
   },
   {
    "duration": 135,
    "start_time": "2025-05-25T23:03:29.127Z"
   },
   {
    "duration": 12,
    "start_time": "2025-05-25T23:03:29.264Z"
   },
   {
    "duration": 221,
    "start_time": "2025-05-25T23:03:29.277Z"
   },
   {
    "duration": 50,
    "start_time": "2025-05-26T05:53:12.564Z"
   },
   {
    "duration": 2599,
    "start_time": "2025-05-26T10:28:21.125Z"
   },
   {
    "duration": 1270,
    "start_time": "2025-05-26T10:28:23.726Z"
   },
   {
    "duration": 198,
    "start_time": "2025-05-26T10:28:24.998Z"
   },
   {
    "duration": 16,
    "start_time": "2025-05-26T10:28:25.198Z"
   },
   {
    "duration": 26,
    "start_time": "2025-05-26T10:28:25.217Z"
   },
   {
    "duration": 13,
    "start_time": "2025-05-26T10:28:25.245Z"
   },
   {
    "duration": 24,
    "start_time": "2025-05-26T10:28:25.260Z"
   },
   {
    "duration": 33,
    "start_time": "2025-05-26T10:28:25.286Z"
   },
   {
    "duration": 5,
    "start_time": "2025-05-26T10:28:25.320Z"
   },
   {
    "duration": 11,
    "start_time": "2025-05-26T10:28:25.327Z"
   },
   {
    "duration": 15,
    "start_time": "2025-05-26T10:28:25.339Z"
   },
   {
    "duration": 20,
    "start_time": "2025-05-26T10:28:25.355Z"
   },
   {
    "duration": 21,
    "start_time": "2025-05-26T10:28:25.377Z"
   },
   {
    "duration": 58,
    "start_time": "2025-05-26T10:28:25.401Z"
   },
   {
    "duration": 81,
    "start_time": "2025-05-26T10:28:25.461Z"
   },
   {
    "duration": 73,
    "start_time": "2025-05-26T10:28:25.544Z"
   },
   {
    "duration": 4,
    "start_time": "2025-05-26T10:28:25.619Z"
   },
   {
    "duration": 16,
    "start_time": "2025-05-26T10:28:25.625Z"
   },
   {
    "duration": 29,
    "start_time": "2025-05-26T10:28:25.643Z"
   },
   {
    "duration": 40,
    "start_time": "2025-05-26T10:28:25.673Z"
   },
   {
    "duration": 10,
    "start_time": "2025-05-26T10:28:25.715Z"
   },
   {
    "duration": 11,
    "start_time": "2025-05-26T10:28:25.727Z"
   },
   {
    "duration": 25,
    "start_time": "2025-05-26T10:28:25.739Z"
   },
   {
    "duration": 39,
    "start_time": "2025-05-26T10:28:25.765Z"
   },
   {
    "duration": 11,
    "start_time": "2025-05-26T10:28:25.806Z"
   },
   {
    "duration": 33,
    "start_time": "2025-05-26T10:28:25.818Z"
   },
   {
    "duration": 36,
    "start_time": "2025-05-26T10:28:25.853Z"
   },
   {
    "duration": 15,
    "start_time": "2025-05-26T10:28:25.891Z"
   },
   {
    "duration": 33,
    "start_time": "2025-05-26T10:28:25.907Z"
   },
   {
    "duration": 37,
    "start_time": "2025-05-26T10:28:25.941Z"
   },
   {
    "duration": 31,
    "start_time": "2025-05-26T10:28:25.980Z"
   },
   {
    "duration": 5,
    "start_time": "2025-05-26T10:28:26.013Z"
   },
   {
    "duration": 22,
    "start_time": "2025-05-26T10:28:26.020Z"
   },
   {
    "duration": 14,
    "start_time": "2025-05-26T10:28:26.044Z"
   },
   {
    "duration": 184,
    "start_time": "2025-05-26T10:28:26.060Z"
   },
   {
    "duration": 10,
    "start_time": "2025-05-26T10:28:26.247Z"
   },
   {
    "duration": 13,
    "start_time": "2025-05-26T10:28:26.259Z"
   },
   {
    "duration": 217,
    "start_time": "2025-05-26T10:28:26.273Z"
   },
   {
    "duration": 10,
    "start_time": "2025-05-26T10:28:26.492Z"
   },
   {
    "duration": 69,
    "start_time": "2025-05-26T10:28:26.504Z"
   },
   {
    "duration": 161,
    "start_time": "2025-05-26T10:28:26.578Z"
   },
   {
    "duration": 9,
    "start_time": "2025-05-26T10:28:26.741Z"
   },
   {
    "duration": 10,
    "start_time": "2025-05-26T10:28:26.752Z"
   },
   {
    "duration": 146,
    "start_time": "2025-05-26T10:28:26.764Z"
   },
   {
    "duration": 11,
    "start_time": "2025-05-26T10:28:26.912Z"
   },
   {
    "duration": 22,
    "start_time": "2025-05-26T10:28:26.925Z"
   },
   {
    "duration": 178,
    "start_time": "2025-05-26T10:28:26.949Z"
   },
   {
    "duration": 13,
    "start_time": "2025-05-26T10:28:27.129Z"
   },
   {
    "duration": 30,
    "start_time": "2025-05-26T10:28:27.144Z"
   },
   {
    "duration": 189,
    "start_time": "2025-05-26T10:28:27.175Z"
   },
   {
    "duration": 199,
    "start_time": "2025-05-26T10:28:27.366Z"
   },
   {
    "duration": 7,
    "start_time": "2025-05-26T10:28:27.566Z"
   },
   {
    "duration": 40,
    "start_time": "2025-05-26T10:28:27.575Z"
   },
   {
    "duration": 163,
    "start_time": "2025-05-26T10:28:27.617Z"
   },
   {
    "duration": 8,
    "start_time": "2025-05-26T10:28:27.782Z"
   },
   {
    "duration": 55,
    "start_time": "2025-05-26T10:28:27.792Z"
   },
   {
    "duration": 154,
    "start_time": "2025-05-26T10:28:27.849Z"
   },
   {
    "duration": 35,
    "start_time": "2025-05-26T10:28:28.005Z"
   },
   {
    "duration": 187,
    "start_time": "2025-05-26T10:28:28.042Z"
   },
   {
    "duration": 250,
    "start_time": "2025-05-26T10:28:28.238Z"
   },
   {
    "duration": 206,
    "start_time": "2025-05-26T10:28:28.490Z"
   },
   {
    "duration": 16,
    "start_time": "2025-05-26T10:28:28.698Z"
   },
   {
    "duration": 251,
    "start_time": "2025-05-26T10:28:28.715Z"
   },
   {
    "duration": 23,
    "start_time": "2025-05-26T10:28:28.968Z"
   },
   {
    "duration": 7,
    "start_time": "2025-05-26T10:28:28.993Z"
   },
   {
    "duration": 231,
    "start_time": "2025-05-26T10:28:29.002Z"
   },
   {
    "duration": 63,
    "start_time": "2025-05-26T10:28:29.237Z"
   },
   {
    "duration": 0,
    "start_time": "2025-05-26T10:28:29.302Z"
   },
   {
    "duration": 0,
    "start_time": "2025-05-26T10:28:29.303Z"
   },
   {
    "duration": 0,
    "start_time": "2025-05-26T10:28:29.304Z"
   },
   {
    "duration": 0,
    "start_time": "2025-05-26T10:28:29.306Z"
   },
   {
    "duration": 0,
    "start_time": "2025-05-26T10:28:29.307Z"
   },
   {
    "duration": 0,
    "start_time": "2025-05-26T10:28:29.308Z"
   },
   {
    "duration": 212,
    "start_time": "2025-05-26T10:30:20.738Z"
   },
   {
    "duration": 2581,
    "start_time": "2025-05-26T10:30:28.714Z"
   },
   {
    "duration": 1201,
    "start_time": "2025-05-26T10:30:31.297Z"
   },
   {
    "duration": 142,
    "start_time": "2025-05-26T10:30:32.500Z"
   },
   {
    "duration": 15,
    "start_time": "2025-05-26T10:30:32.644Z"
   },
   {
    "duration": 21,
    "start_time": "2025-05-26T10:30:32.660Z"
   },
   {
    "duration": 30,
    "start_time": "2025-05-26T10:30:32.682Z"
   },
   {
    "duration": 21,
    "start_time": "2025-05-26T10:30:32.714Z"
   },
   {
    "duration": 51,
    "start_time": "2025-05-26T10:30:32.736Z"
   },
   {
    "duration": 4,
    "start_time": "2025-05-26T10:30:32.789Z"
   },
   {
    "duration": 7,
    "start_time": "2025-05-26T10:30:32.796Z"
   },
   {
    "duration": 13,
    "start_time": "2025-05-26T10:30:32.805Z"
   },
   {
    "duration": 14,
    "start_time": "2025-05-26T10:30:32.820Z"
   },
   {
    "duration": 26,
    "start_time": "2025-05-26T10:30:32.835Z"
   },
   {
    "duration": 10,
    "start_time": "2025-05-26T10:30:32.862Z"
   },
   {
    "duration": 20,
    "start_time": "2025-05-26T10:30:32.874Z"
   },
   {
    "duration": 66,
    "start_time": "2025-05-26T10:30:32.897Z"
   },
   {
    "duration": 5,
    "start_time": "2025-05-26T10:30:32.964Z"
   },
   {
    "duration": 16,
    "start_time": "2025-05-26T10:30:32.971Z"
   },
   {
    "duration": 7,
    "start_time": "2025-05-26T10:30:32.989Z"
   },
   {
    "duration": 30,
    "start_time": "2025-05-26T10:30:32.997Z"
   },
   {
    "duration": 17,
    "start_time": "2025-05-26T10:30:33.029Z"
   },
   {
    "duration": 8,
    "start_time": "2025-05-26T10:30:33.047Z"
   },
   {
    "duration": 7,
    "start_time": "2025-05-26T10:30:33.057Z"
   },
   {
    "duration": 41,
    "start_time": "2025-05-26T10:30:33.065Z"
   },
   {
    "duration": 5,
    "start_time": "2025-05-26T10:30:33.108Z"
   },
   {
    "duration": 15,
    "start_time": "2025-05-26T10:30:33.115Z"
   },
   {
    "duration": 20,
    "start_time": "2025-05-26T10:30:33.137Z"
   },
   {
    "duration": 26,
    "start_time": "2025-05-26T10:30:33.161Z"
   },
   {
    "duration": 73,
    "start_time": "2025-05-26T10:30:33.188Z"
   },
   {
    "duration": 44,
    "start_time": "2025-05-26T10:30:33.262Z"
   },
   {
    "duration": 10,
    "start_time": "2025-05-26T10:30:33.308Z"
   },
   {
    "duration": 5,
    "start_time": "2025-05-26T10:30:33.320Z"
   },
   {
    "duration": 30,
    "start_time": "2025-05-26T10:30:33.326Z"
   },
   {
    "duration": 8,
    "start_time": "2025-05-26T10:30:33.357Z"
   },
   {
    "duration": 189,
    "start_time": "2025-05-26T10:30:33.366Z"
   },
   {
    "duration": 9,
    "start_time": "2025-05-26T10:30:33.557Z"
   },
   {
    "duration": 23,
    "start_time": "2025-05-26T10:30:33.567Z"
   },
   {
    "duration": 210,
    "start_time": "2025-05-26T10:30:33.591Z"
   },
   {
    "duration": 9,
    "start_time": "2025-05-26T10:30:33.803Z"
   },
   {
    "duration": 26,
    "start_time": "2025-05-26T10:30:33.814Z"
   },
   {
    "duration": 190,
    "start_time": "2025-05-26T10:30:33.842Z"
   },
   {
    "duration": 9,
    "start_time": "2025-05-26T10:30:34.033Z"
   },
   {
    "duration": 50,
    "start_time": "2025-05-26T10:30:34.044Z"
   },
   {
    "duration": 148,
    "start_time": "2025-05-26T10:30:34.096Z"
   },
   {
    "duration": 10,
    "start_time": "2025-05-26T10:30:34.246Z"
   },
   {
    "duration": 34,
    "start_time": "2025-05-26T10:30:34.257Z"
   },
   {
    "duration": 185,
    "start_time": "2025-05-26T10:30:34.293Z"
   },
   {
    "duration": 6,
    "start_time": "2025-05-26T10:30:34.479Z"
   },
   {
    "duration": 84,
    "start_time": "2025-05-26T10:30:34.486Z"
   },
   {
    "duration": 206,
    "start_time": "2025-05-26T10:30:34.571Z"
   },
   {
    "duration": 208,
    "start_time": "2025-05-26T10:30:34.780Z"
   },
   {
    "duration": 8,
    "start_time": "2025-05-26T10:30:34.990Z"
   },
   {
    "duration": 20,
    "start_time": "2025-05-26T10:30:34.999Z"
   },
   {
    "duration": 184,
    "start_time": "2025-05-26T10:30:35.021Z"
   },
   {
    "duration": 8,
    "start_time": "2025-05-26T10:30:35.207Z"
   },
   {
    "duration": 97,
    "start_time": "2025-05-26T10:30:35.216Z"
   },
   {
    "duration": 152,
    "start_time": "2025-05-26T10:30:35.315Z"
   },
   {
    "duration": 23,
    "start_time": "2025-05-26T10:30:35.469Z"
   },
   {
    "duration": 204,
    "start_time": "2025-05-26T10:30:35.494Z"
   },
   {
    "duration": 186,
    "start_time": "2025-05-26T10:30:35.700Z"
   },
   {
    "duration": 237,
    "start_time": "2025-05-26T10:30:35.888Z"
   },
   {
    "duration": 20,
    "start_time": "2025-05-26T10:30:36.126Z"
   },
   {
    "duration": 248,
    "start_time": "2025-05-26T10:30:36.148Z"
   },
   {
    "duration": 22,
    "start_time": "2025-05-26T10:30:36.397Z"
   },
   {
    "duration": 151,
    "start_time": "2025-05-26T10:30:36.420Z"
   },
   {
    "duration": 224,
    "start_time": "2025-05-26T10:30:36.572Z"
   },
   {
    "duration": 219,
    "start_time": "2025-05-26T10:30:36.797Z"
   },
   {
    "duration": 5,
    "start_time": "2025-05-26T10:30:37.018Z"
   },
   {
    "duration": 34,
    "start_time": "2025-05-26T10:30:37.024Z"
   },
   {
    "duration": 186,
    "start_time": "2025-05-26T10:30:37.060Z"
   },
   {
    "duration": 125,
    "start_time": "2025-05-26T10:30:37.247Z"
   },
   {
    "duration": 11,
    "start_time": "2025-05-26T10:30:37.374Z"
   },
   {
    "duration": 223,
    "start_time": "2025-05-26T10:30:37.386Z"
   },
   {
    "duration": 3596,
    "start_time": "2025-08-29T13:51:35.718Z"
   },
   {
    "duration": 1446,
    "start_time": "2025-08-29T13:51:39.316Z"
   },
   {
    "duration": 237,
    "start_time": "2025-08-29T13:51:40.764Z"
   },
   {
    "duration": 16,
    "start_time": "2025-08-29T13:51:41.003Z"
   },
   {
    "duration": 26,
    "start_time": "2025-08-29T13:51:41.021Z"
   },
   {
    "duration": 10,
    "start_time": "2025-08-29T13:51:41.048Z"
   },
   {
    "duration": 11,
    "start_time": "2025-08-29T13:51:41.059Z"
   },
   {
    "duration": 29,
    "start_time": "2025-08-29T13:51:41.072Z"
   },
   {
    "duration": 4,
    "start_time": "2025-08-29T13:51:41.103Z"
   },
   {
    "duration": 6,
    "start_time": "2025-08-29T13:51:41.109Z"
   },
   {
    "duration": 5,
    "start_time": "2025-08-29T13:51:41.116Z"
   },
   {
    "duration": 10,
    "start_time": "2025-08-29T13:51:41.123Z"
   },
   {
    "duration": 42,
    "start_time": "2025-08-29T13:51:41.134Z"
   },
   {
    "duration": 10,
    "start_time": "2025-08-29T13:51:41.179Z"
   },
   {
    "duration": 12,
    "start_time": "2025-08-29T13:51:41.191Z"
   },
   {
    "duration": 87,
    "start_time": "2025-08-29T13:51:41.205Z"
   },
   {
    "duration": 6,
    "start_time": "2025-08-29T13:51:41.293Z"
   },
   {
    "duration": 22,
    "start_time": "2025-08-29T13:51:41.300Z"
   },
   {
    "duration": 19,
    "start_time": "2025-08-29T13:51:41.324Z"
   },
   {
    "duration": 32,
    "start_time": "2025-08-29T13:51:41.345Z"
   },
   {
    "duration": 11,
    "start_time": "2025-08-29T13:51:41.379Z"
   },
   {
    "duration": 6,
    "start_time": "2025-08-29T13:51:41.392Z"
   },
   {
    "duration": 17,
    "start_time": "2025-08-29T13:51:41.400Z"
   },
   {
    "duration": 23,
    "start_time": "2025-08-29T13:51:41.419Z"
   },
   {
    "duration": 5,
    "start_time": "2025-08-29T13:51:41.444Z"
   },
   {
    "duration": 30,
    "start_time": "2025-08-29T13:51:41.450Z"
   },
   {
    "duration": 10,
    "start_time": "2025-08-29T13:51:41.482Z"
   },
   {
    "duration": 8,
    "start_time": "2025-08-29T13:51:41.493Z"
   },
   {
    "duration": 15,
    "start_time": "2025-08-29T13:51:41.502Z"
   },
   {
    "duration": 18,
    "start_time": "2025-08-29T13:51:41.519Z"
   },
   {
    "duration": 6,
    "start_time": "2025-08-29T13:51:41.538Z"
   },
   {
    "duration": 5,
    "start_time": "2025-08-29T13:51:41.545Z"
   },
   {
    "duration": 9,
    "start_time": "2025-08-29T13:51:41.572Z"
   },
   {
    "duration": 22,
    "start_time": "2025-08-29T13:51:41.583Z"
   },
   {
    "duration": 194,
    "start_time": "2025-08-29T13:51:41.607Z"
   },
   {
    "duration": 9,
    "start_time": "2025-08-29T13:51:41.803Z"
   },
   {
    "duration": 7,
    "start_time": "2025-08-29T13:51:41.814Z"
   },
   {
    "duration": 242,
    "start_time": "2025-08-29T13:51:41.823Z"
   },
   {
    "duration": 13,
    "start_time": "2025-08-29T13:51:42.066Z"
   },
   {
    "duration": 10,
    "start_time": "2025-08-29T13:51:42.081Z"
   },
   {
    "duration": 219,
    "start_time": "2025-08-29T13:51:42.095Z"
   },
   {
    "duration": 9,
    "start_time": "2025-08-29T13:51:42.315Z"
   },
   {
    "duration": 19,
    "start_time": "2025-08-29T13:51:42.325Z"
   },
   {
    "duration": 139,
    "start_time": "2025-08-29T13:51:42.346Z"
   },
   {
    "duration": 11,
    "start_time": "2025-08-29T13:51:42.487Z"
   },
   {
    "duration": 12,
    "start_time": "2025-08-29T13:51:42.500Z"
   },
   {
    "duration": 206,
    "start_time": "2025-08-29T13:51:42.515Z"
   },
   {
    "duration": 6,
    "start_time": "2025-08-29T13:51:42.723Z"
   },
   {
    "duration": 10,
    "start_time": "2025-08-29T13:51:42.731Z"
   },
   {
    "duration": 218,
    "start_time": "2025-08-29T13:51:42.743Z"
   },
   {
    "duration": 209,
    "start_time": "2025-08-29T13:51:42.970Z"
   },
   {
    "duration": 7,
    "start_time": "2025-08-29T13:51:43.181Z"
   },
   {
    "duration": 12,
    "start_time": "2025-08-29T13:51:43.190Z"
   },
   {
    "duration": 202,
    "start_time": "2025-08-29T13:51:43.203Z"
   },
   {
    "duration": 9,
    "start_time": "2025-08-29T13:51:43.406Z"
   },
   {
    "duration": 36,
    "start_time": "2025-08-29T13:51:43.416Z"
   },
   {
    "duration": 182,
    "start_time": "2025-08-29T13:51:43.470Z"
   },
   {
    "duration": 34,
    "start_time": "2025-08-29T13:51:43.654Z"
   },
   {
    "duration": 213,
    "start_time": "2025-08-29T13:51:43.690Z"
   },
   {
    "duration": 249,
    "start_time": "2025-08-29T13:51:43.905Z"
   },
   {
    "duration": 223,
    "start_time": "2025-08-29T13:51:44.156Z"
   },
   {
    "duration": 16,
    "start_time": "2025-08-29T13:51:44.380Z"
   },
   {
    "duration": 268,
    "start_time": "2025-08-29T13:51:44.397Z"
   },
   {
    "duration": 22,
    "start_time": "2025-08-29T13:51:44.671Z"
   },
   {
    "duration": 7,
    "start_time": "2025-08-29T13:51:44.695Z"
   },
   {
    "duration": 238,
    "start_time": "2025-08-29T13:51:44.704Z"
   },
   {
    "duration": 231,
    "start_time": "2025-08-29T13:51:44.944Z"
   },
   {
    "duration": 5,
    "start_time": "2025-08-29T13:51:45.177Z"
   },
   {
    "duration": 21,
    "start_time": "2025-08-29T13:51:45.184Z"
   },
   {
    "duration": 264,
    "start_time": "2025-08-29T13:51:45.207Z"
   },
   {
    "duration": 134,
    "start_time": "2025-08-29T13:51:45.473Z"
   },
   {
    "duration": 13,
    "start_time": "2025-08-29T13:51:45.609Z"
   },
   {
    "duration": 233,
    "start_time": "2025-08-29T13:51:45.623Z"
   },
   {
    "duration": 94,
    "start_time": "2025-08-29T13:53:46.933Z"
   },
   {
    "duration": 2933,
    "start_time": "2025-08-29T13:53:50.174Z"
   },
   {
    "duration": 3,
    "start_time": "2025-08-29T13:54:01.256Z"
   }
  ],
  "kernelspec": {
   "display_name": "Python 3 (ipykernel)",
   "language": "python",
   "name": "python3"
  },
  "language_info": {
   "codemirror_mode": {
    "name": "ipython",
    "version": 3
   },
   "file_extension": ".py",
   "mimetype": "text/x-python",
   "name": "python",
   "nbconvert_exporter": "python",
   "pygments_lexer": "ipython3",
   "version": "3.9.5"
  },
  "toc": {
   "base_numbering": 1,
   "nav_menu": {},
   "number_sections": true,
   "sideBar": true,
   "skip_h1_title": true,
   "title_cell": "Table of Contents",
   "title_sidebar": "Contents",
   "toc_cell": false,
   "toc_position": {
    "height": "calc(100% - 180px)",
    "left": "10px",
    "top": "150px",
    "width": "205.932px"
   },
   "toc_section_display": true,
   "toc_window_display": true
  }
 },
 "nbformat": 4,
 "nbformat_minor": 5
}
